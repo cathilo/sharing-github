{
 "cells": [
  {
   "cell_type": "code",
   "execution_count": 1,
   "metadata": {},
   "outputs": [],
   "source": [
    "import pandas as pd\n",
    "import numpy as np\n",
    "import matplotlib.pyplot as plt\n",
    "import seaborn as sns\n",
    "import datetime as dt\n",
    "import matplotlib as mpl\n"
   ]
  },
  {
   "cell_type": "markdown",
   "metadata": {},
   "source": [
    "# Data Cleansing\n",
    "\n"
   ]
  },
  {
   "cell_type": "code",
   "execution_count": 2,
   "metadata": {},
   "outputs": [],
   "source": [
    "df= pd.read_csv('https://api.covidtracking.com/v1/states/daily.csv',parse_dates=['date'])"
   ]
  },
  {
   "cell_type": "markdown",
   "metadata": {},
   "source": [
    "upload census data that we will use with our covid data to determine values per thousand and hundred-thousand of each state's population"
   ]
  },
  {
   "cell_type": "code",
   "execution_count": 3,
   "metadata": {},
   "outputs": [],
   "source": [
    "c=pd.read_csv('census2018.csv')"
   ]
  },
  {
   "cell_type": "code",
   "execution_count": 4,
   "metadata": {},
   "outputs": [
    {
     "data": {
      "text/plain": [
       "Index(['Geographic Area Name', 'Estimate'], dtype='object')"
      ]
     },
     "execution_count": 4,
     "metadata": {},
     "output_type": "execute_result"
    }
   ],
   "source": [
    "c.columns"
   ]
  },
  {
   "cell_type": "code",
   "execution_count": 5,
   "metadata": {},
   "outputs": [],
   "source": [
    "c.columns= ['State','Population']"
   ]
  },
  {
   "cell_type": "code",
   "execution_count": 6,
   "metadata": {
    "scrolled": true
   },
   "outputs": [
    {
     "data": {
      "text/plain": [
       "0     Colorado\n",
       "1      Indiana\n",
       "2     Kentucky\n",
       "3    Louisiana\n",
       "4     Illinois\n",
       "Name: State, dtype: object"
      ]
     },
     "execution_count": 6,
     "metadata": {},
     "output_type": "execute_result"
    }
   ],
   "source": [
    "c['State'].head()"
   ]
  },
  {
   "cell_type": "markdown",
   "metadata": {},
   "source": [
    "below is a dictionary where every state has a value of its abbreviation."
   ]
  },
  {
   "cell_type": "code",
   "execution_count": 7,
   "metadata": {},
   "outputs": [],
   "source": [
    "us_state_abbrev = {\n",
    "    'Alabama': 'AL',\n",
    "    'Alaska': 'AK',\n",
    "    'American Samoa': 'AS',\n",
    "    'Arizona': 'AZ',\n",
    "    'Arkansas': 'AR',\n",
    "    'California': 'CA',\n",
    "    'Colorado': 'CO',\n",
    "    'Connecticut': 'CT',\n",
    "    'Delaware': 'DE',\n",
    "    'District of Columbia': 'DC',\n",
    "    'Florida': 'FL',\n",
    "    'Georgia': 'GA',\n",
    "    'Guam': 'GU',\n",
    "    'Hawaii': 'HI',\n",
    "    'Idaho': 'ID',\n",
    "    'Illinois': 'IL',\n",
    "    'Indiana': 'IN',\n",
    "    'Iowa': 'IA',\n",
    "    'Kansas': 'KS',\n",
    "    'Kentucky': 'KY',\n",
    "    'Louisiana': 'LA',\n",
    "    'Maine': 'ME',\n",
    "    'Maryland': 'MD',\n",
    "    'Massachusetts': 'MA',\n",
    "    'Michigan': 'MI',\n",
    "    'Minnesota': 'MN',\n",
    "    'Mississippi': 'MS',\n",
    "    'Missouri': 'MO',\n",
    "    'Montana': 'MT',\n",
    "    'Nebraska': 'NE',\n",
    "    'Nevada': 'NV',\n",
    "    'New Hampshire': 'NH',\n",
    "    'New Jersey': 'NJ',\n",
    "    'New Mexico': 'NM',\n",
    "    'New York': 'NY',\n",
    "    'North Carolina': 'NC',\n",
    "    'North Dakota': 'ND',\n",
    "    'Northern Mariana Islands':'MP',\n",
    "    'Ohio': 'OH',\n",
    "    'Oklahoma': 'OK',\n",
    "    'Oregon': 'OR',\n",
    "    'Pennsylvania': 'PA',\n",
    "    'Puerto Rico': 'PR',\n",
    "    'Rhode Island': 'RI',\n",
    "    'South Carolina': 'SC',\n",
    "    'South Dakota': 'SD',\n",
    "    'Tennessee': 'TN',\n",
    "    'Texas': 'TX',\n",
    "    'Utah': 'UT',\n",
    "    'Vermont': 'VT',\n",
    "    'Virgin Islands': 'VI',\n",
    "    'Virginia': 'VA',\n",
    "    'Washington': 'WA',\n",
    "    'West Virginia': 'WV',\n",
    "    'Wisconsin': 'WI',\n",
    "    'Wyoming': 'WY'\n",
    "}"
   ]
  },
  {
   "cell_type": "markdown",
   "metadata": {},
   "source": [
    "for every state in our census data, add its corresponding abbreviation, from the us_abbrev dictionary, to a list that will later be joined to the census data dataframe"
   ]
  },
  {
   "cell_type": "code",
   "execution_count": 8,
   "metadata": {},
   "outputs": [],
   "source": [
    "state_list=[]\n",
    "for s in c['State']:\n",
    "    if s != 'United States':\n",
    "        state_list.append(us_state_abbrev[s])"
   ]
  },
  {
   "cell_type": "code",
   "execution_count": 9,
   "metadata": {},
   "outputs": [
    {
     "data": {
      "text/plain": [
       "['CO',\n",
       " 'IN',\n",
       " 'KY',\n",
       " 'LA',\n",
       " 'IL',\n",
       " 'IA',\n",
       " 'NH',\n",
       " 'AR',\n",
       " 'DE',\n",
       " 'MN',\n",
       " 'MT',\n",
       " 'ME',\n",
       " 'NC',\n",
       " 'GA',\n",
       " 'AK',\n",
       " 'AL',\n",
       " 'VT',\n",
       " 'NV',\n",
       " 'WV',\n",
       " 'OK',\n",
       " 'WI',\n",
       " 'PR',\n",
       " 'VA',\n",
       " 'ND',\n",
       " 'SC',\n",
       " 'OR',\n",
       " 'WY',\n",
       " 'CA',\n",
       " 'MS',\n",
       " 'CT',\n",
       " 'TX',\n",
       " 'MD',\n",
       " 'FL',\n",
       " 'MA',\n",
       " 'DC',\n",
       " 'UT',\n",
       " 'NY',\n",
       " 'NJ',\n",
       " 'OH',\n",
       " 'MO',\n",
       " 'PA',\n",
       " 'MI',\n",
       " 'NE',\n",
       " 'ID',\n",
       " 'NM',\n",
       " 'HI',\n",
       " 'SD',\n",
       " 'WA',\n",
       " 'RI',\n",
       " 'AZ',\n",
       " 'TN',\n",
       " 'KS']"
      ]
     },
     "execution_count": 9,
     "metadata": {},
     "output_type": "execute_result"
    }
   ],
   "source": [
    "state_list"
   ]
  },
  {
   "cell_type": "code",
   "execution_count": 10,
   "metadata": {},
   "outputs": [],
   "source": [
    "\n",
    "state_list=np.array(state_list)"
   ]
  },
  {
   "cell_type": "markdown",
   "metadata": {},
   "source": [
    "Add USA to end of list as it is not provided "
   ]
  },
  {
   "cell_type": "code",
   "execution_count": 11,
   "metadata": {},
   "outputs": [],
   "source": [
    "state_list=np.append(state_list,'USA')"
   ]
  },
  {
   "cell_type": "code",
   "execution_count": 12,
   "metadata": {},
   "outputs": [
    {
     "data": {
      "text/plain": [
       "array(['CO', 'IN', 'KY', 'LA', 'IL', 'IA', 'NH', 'AR', 'DE', 'MN', 'MT',\n",
       "       'ME', 'NC', 'GA', 'AK', 'AL', 'VT', 'NV', 'WV', 'OK', 'WI', 'PR',\n",
       "       'VA', 'ND', 'SC', 'OR', 'WY', 'CA', 'MS', 'CT', 'TX', 'MD', 'FL',\n",
       "       'MA', 'DC', 'UT', 'NY', 'NJ', 'OH', 'MO', 'PA', 'MI', 'NE', 'ID',\n",
       "       'NM', 'HI', 'SD', 'WA', 'RI', 'AZ', 'TN', 'KS', 'USA'], dtype='<U3')"
      ]
     },
     "execution_count": 12,
     "metadata": {},
     "output_type": "execute_result"
    }
   ],
   "source": [
    "state_list"
   ]
  },
  {
   "cell_type": "code",
   "execution_count": 13,
   "metadata": {},
   "outputs": [],
   "source": [
    "c['state_code']=state_list"
   ]
  },
  {
   "cell_type": "markdown",
   "metadata": {},
   "source": [
    "view the resulting c dataframe"
   ]
  },
  {
   "cell_type": "code",
   "execution_count": 14,
   "metadata": {},
   "outputs": [
    {
     "data": {
      "text/html": [
       "<div>\n",
       "<style scoped>\n",
       "    .dataframe tbody tr th:only-of-type {\n",
       "        vertical-align: middle;\n",
       "    }\n",
       "\n",
       "    .dataframe tbody tr th {\n",
       "        vertical-align: top;\n",
       "    }\n",
       "\n",
       "    .dataframe thead th {\n",
       "        text-align: right;\n",
       "    }\n",
       "</style>\n",
       "<table border=\"1\" class=\"dataframe\">\n",
       "  <thead>\n",
       "    <tr style=\"text-align: right;\">\n",
       "      <th></th>\n",
       "      <th>State</th>\n",
       "      <th>Population</th>\n",
       "      <th>state_code</th>\n",
       "    </tr>\n",
       "  </thead>\n",
       "  <tbody>\n",
       "    <tr>\n",
       "      <td>0</td>\n",
       "      <td>Colorado</td>\n",
       "      <td>5695564</td>\n",
       "      <td>CO</td>\n",
       "    </tr>\n",
       "    <tr>\n",
       "      <td>1</td>\n",
       "      <td>Indiana</td>\n",
       "      <td>6691878</td>\n",
       "      <td>IN</td>\n",
       "    </tr>\n",
       "    <tr>\n",
       "      <td>2</td>\n",
       "      <td>Kentucky</td>\n",
       "      <td>4468402</td>\n",
       "      <td>KY</td>\n",
       "    </tr>\n",
       "    <tr>\n",
       "      <td>3</td>\n",
       "      <td>Louisiana</td>\n",
       "      <td>4659978</td>\n",
       "      <td>LA</td>\n",
       "    </tr>\n",
       "    <tr>\n",
       "      <td>4</td>\n",
       "      <td>Illinois</td>\n",
       "      <td>12741080</td>\n",
       "      <td>IL</td>\n",
       "    </tr>\n",
       "  </tbody>\n",
       "</table>\n",
       "</div>"
      ],
      "text/plain": [
       "       State  Population state_code\n",
       "0   Colorado     5695564         CO\n",
       "1    Indiana     6691878         IN\n",
       "2   Kentucky     4468402         KY\n",
       "3  Louisiana     4659978         LA\n",
       "4   Illinois    12741080         IL"
      ]
     },
     "execution_count": 14,
     "metadata": {},
     "output_type": "execute_result"
    }
   ],
   "source": [
    "c.head()"
   ]
  },
  {
   "cell_type": "code",
   "execution_count": 15,
   "metadata": {},
   "outputs": [
    {
     "data": {
      "text/html": [
       "<div>\n",
       "<style scoped>\n",
       "    .dataframe tbody tr th:only-of-type {\n",
       "        vertical-align: middle;\n",
       "    }\n",
       "\n",
       "    .dataframe tbody tr th {\n",
       "        vertical-align: top;\n",
       "    }\n",
       "\n",
       "    .dataframe thead th {\n",
       "        text-align: right;\n",
       "    }\n",
       "</style>\n",
       "<table border=\"1\" class=\"dataframe\">\n",
       "  <thead>\n",
       "    <tr style=\"text-align: right;\">\n",
       "      <th></th>\n",
       "      <th>State</th>\n",
       "      <th>Population</th>\n",
       "    </tr>\n",
       "    <tr>\n",
       "      <th>state_code</th>\n",
       "      <th></th>\n",
       "      <th></th>\n",
       "    </tr>\n",
       "  </thead>\n",
       "  <tbody>\n",
       "    <tr>\n",
       "      <td>CO</td>\n",
       "      <td>Colorado</td>\n",
       "      <td>5695564</td>\n",
       "    </tr>\n",
       "    <tr>\n",
       "      <td>IN</td>\n",
       "      <td>Indiana</td>\n",
       "      <td>6691878</td>\n",
       "    </tr>\n",
       "    <tr>\n",
       "      <td>KY</td>\n",
       "      <td>Kentucky</td>\n",
       "      <td>4468402</td>\n",
       "    </tr>\n",
       "    <tr>\n",
       "      <td>LA</td>\n",
       "      <td>Louisiana</td>\n",
       "      <td>4659978</td>\n",
       "    </tr>\n",
       "    <tr>\n",
       "      <td>IL</td>\n",
       "      <td>Illinois</td>\n",
       "      <td>12741080</td>\n",
       "    </tr>\n",
       "    <tr>\n",
       "      <td>IA</td>\n",
       "      <td>Iowa</td>\n",
       "      <td>3156145</td>\n",
       "    </tr>\n",
       "    <tr>\n",
       "      <td>NH</td>\n",
       "      <td>New Hampshire</td>\n",
       "      <td>1356458</td>\n",
       "    </tr>\n",
       "    <tr>\n",
       "      <td>AR</td>\n",
       "      <td>Arkansas</td>\n",
       "      <td>3013825</td>\n",
       "    </tr>\n",
       "    <tr>\n",
       "      <td>DE</td>\n",
       "      <td>Delaware</td>\n",
       "      <td>967171</td>\n",
       "    </tr>\n",
       "    <tr>\n",
       "      <td>MN</td>\n",
       "      <td>Minnesota</td>\n",
       "      <td>5611179</td>\n",
       "    </tr>\n",
       "    <tr>\n",
       "      <td>MT</td>\n",
       "      <td>Montana</td>\n",
       "      <td>1062305</td>\n",
       "    </tr>\n",
       "    <tr>\n",
       "      <td>ME</td>\n",
       "      <td>Maine</td>\n",
       "      <td>1338404</td>\n",
       "    </tr>\n",
       "    <tr>\n",
       "      <td>NC</td>\n",
       "      <td>North Carolina</td>\n",
       "      <td>10383620</td>\n",
       "    </tr>\n",
       "    <tr>\n",
       "      <td>GA</td>\n",
       "      <td>Georgia</td>\n",
       "      <td>10519475</td>\n",
       "    </tr>\n",
       "    <tr>\n",
       "      <td>AK</td>\n",
       "      <td>Alaska</td>\n",
       "      <td>737438</td>\n",
       "    </tr>\n",
       "    <tr>\n",
       "      <td>AL</td>\n",
       "      <td>Alabama</td>\n",
       "      <td>4887871</td>\n",
       "    </tr>\n",
       "    <tr>\n",
       "      <td>VT</td>\n",
       "      <td>Vermont</td>\n",
       "      <td>626299</td>\n",
       "    </tr>\n",
       "    <tr>\n",
       "      <td>NV</td>\n",
       "      <td>Nevada</td>\n",
       "      <td>3034392</td>\n",
       "    </tr>\n",
       "    <tr>\n",
       "      <td>WV</td>\n",
       "      <td>West Virginia</td>\n",
       "      <td>1805832</td>\n",
       "    </tr>\n",
       "    <tr>\n",
       "      <td>OK</td>\n",
       "      <td>Oklahoma</td>\n",
       "      <td>3943079</td>\n",
       "    </tr>\n",
       "    <tr>\n",
       "      <td>WI</td>\n",
       "      <td>Wisconsin</td>\n",
       "      <td>5813568</td>\n",
       "    </tr>\n",
       "    <tr>\n",
       "      <td>PR</td>\n",
       "      <td>Puerto Rico</td>\n",
       "      <td>3195153</td>\n",
       "    </tr>\n",
       "    <tr>\n",
       "      <td>VA</td>\n",
       "      <td>Virginia</td>\n",
       "      <td>8517685</td>\n",
       "    </tr>\n",
       "    <tr>\n",
       "      <td>ND</td>\n",
       "      <td>North Dakota</td>\n",
       "      <td>760077</td>\n",
       "    </tr>\n",
       "    <tr>\n",
       "      <td>SC</td>\n",
       "      <td>South Carolina</td>\n",
       "      <td>5084127</td>\n",
       "    </tr>\n",
       "    <tr>\n",
       "      <td>OR</td>\n",
       "      <td>Oregon</td>\n",
       "      <td>4190713</td>\n",
       "    </tr>\n",
       "    <tr>\n",
       "      <td>WY</td>\n",
       "      <td>Wyoming</td>\n",
       "      <td>577737</td>\n",
       "    </tr>\n",
       "    <tr>\n",
       "      <td>CA</td>\n",
       "      <td>California</td>\n",
       "      <td>39557045</td>\n",
       "    </tr>\n",
       "    <tr>\n",
       "      <td>MS</td>\n",
       "      <td>Mississippi</td>\n",
       "      <td>2986530</td>\n",
       "    </tr>\n",
       "    <tr>\n",
       "      <td>CT</td>\n",
       "      <td>Connecticut</td>\n",
       "      <td>3572665</td>\n",
       "    </tr>\n",
       "    <tr>\n",
       "      <td>TX</td>\n",
       "      <td>Texas</td>\n",
       "      <td>28701845</td>\n",
       "    </tr>\n",
       "    <tr>\n",
       "      <td>MD</td>\n",
       "      <td>Maryland</td>\n",
       "      <td>6042718</td>\n",
       "    </tr>\n",
       "    <tr>\n",
       "      <td>FL</td>\n",
       "      <td>Florida</td>\n",
       "      <td>21299325</td>\n",
       "    </tr>\n",
       "    <tr>\n",
       "      <td>MA</td>\n",
       "      <td>Massachusetts</td>\n",
       "      <td>6902149</td>\n",
       "    </tr>\n",
       "    <tr>\n",
       "      <td>DC</td>\n",
       "      <td>District of Columbia</td>\n",
       "      <td>702455</td>\n",
       "    </tr>\n",
       "    <tr>\n",
       "      <td>UT</td>\n",
       "      <td>Utah</td>\n",
       "      <td>3161105</td>\n",
       "    </tr>\n",
       "    <tr>\n",
       "      <td>NY</td>\n",
       "      <td>New York</td>\n",
       "      <td>19542209</td>\n",
       "    </tr>\n",
       "    <tr>\n",
       "      <td>NJ</td>\n",
       "      <td>New Jersey</td>\n",
       "      <td>8908520</td>\n",
       "    </tr>\n",
       "    <tr>\n",
       "      <td>OH</td>\n",
       "      <td>Ohio</td>\n",
       "      <td>11689442</td>\n",
       "    </tr>\n",
       "    <tr>\n",
       "      <td>MO</td>\n",
       "      <td>Missouri</td>\n",
       "      <td>6126452</td>\n",
       "    </tr>\n",
       "    <tr>\n",
       "      <td>PA</td>\n",
       "      <td>Pennsylvania</td>\n",
       "      <td>12807060</td>\n",
       "    </tr>\n",
       "    <tr>\n",
       "      <td>MI</td>\n",
       "      <td>Michigan</td>\n",
       "      <td>9995915</td>\n",
       "    </tr>\n",
       "    <tr>\n",
       "      <td>NE</td>\n",
       "      <td>Nebraska</td>\n",
       "      <td>1929268</td>\n",
       "    </tr>\n",
       "    <tr>\n",
       "      <td>ID</td>\n",
       "      <td>Idaho</td>\n",
       "      <td>1754208</td>\n",
       "    </tr>\n",
       "    <tr>\n",
       "      <td>NM</td>\n",
       "      <td>New Mexico</td>\n",
       "      <td>2095428</td>\n",
       "    </tr>\n",
       "    <tr>\n",
       "      <td>HI</td>\n",
       "      <td>Hawaii</td>\n",
       "      <td>1420491</td>\n",
       "    </tr>\n",
       "    <tr>\n",
       "      <td>SD</td>\n",
       "      <td>South Dakota</td>\n",
       "      <td>882235</td>\n",
       "    </tr>\n",
       "    <tr>\n",
       "      <td>WA</td>\n",
       "      <td>Washington</td>\n",
       "      <td>7535591</td>\n",
       "    </tr>\n",
       "    <tr>\n",
       "      <td>RI</td>\n",
       "      <td>Rhode Island</td>\n",
       "      <td>1057315</td>\n",
       "    </tr>\n",
       "    <tr>\n",
       "      <td>AZ</td>\n",
       "      <td>Arizona</td>\n",
       "      <td>7171646</td>\n",
       "    </tr>\n",
       "    <tr>\n",
       "      <td>TN</td>\n",
       "      <td>Tennessee</td>\n",
       "      <td>6770010</td>\n",
       "    </tr>\n",
       "    <tr>\n",
       "      <td>KS</td>\n",
       "      <td>Kansas</td>\n",
       "      <td>2911510</td>\n",
       "    </tr>\n",
       "    <tr>\n",
       "      <td>USA</td>\n",
       "      <td>United States</td>\n",
       "      <td>327167439</td>\n",
       "    </tr>\n",
       "  </tbody>\n",
       "</table>\n",
       "</div>"
      ],
      "text/plain": [
       "                           State  Population\n",
       "state_code                                  \n",
       "CO                      Colorado     5695564\n",
       "IN                       Indiana     6691878\n",
       "KY                      Kentucky     4468402\n",
       "LA                     Louisiana     4659978\n",
       "IL                      Illinois    12741080\n",
       "IA                          Iowa     3156145\n",
       "NH                 New Hampshire     1356458\n",
       "AR                      Arkansas     3013825\n",
       "DE                      Delaware      967171\n",
       "MN                     Minnesota     5611179\n",
       "MT                       Montana     1062305\n",
       "ME                         Maine     1338404\n",
       "NC                North Carolina    10383620\n",
       "GA                       Georgia    10519475\n",
       "AK                        Alaska      737438\n",
       "AL                       Alabama     4887871\n",
       "VT                       Vermont      626299\n",
       "NV                        Nevada     3034392\n",
       "WV                 West Virginia     1805832\n",
       "OK                      Oklahoma     3943079\n",
       "WI                     Wisconsin     5813568\n",
       "PR                   Puerto Rico     3195153\n",
       "VA                      Virginia     8517685\n",
       "ND                  North Dakota      760077\n",
       "SC                South Carolina     5084127\n",
       "OR                        Oregon     4190713\n",
       "WY                       Wyoming      577737\n",
       "CA                    California    39557045\n",
       "MS                   Mississippi     2986530\n",
       "CT                   Connecticut     3572665\n",
       "TX                         Texas    28701845\n",
       "MD                      Maryland     6042718\n",
       "FL                       Florida    21299325\n",
       "MA                 Massachusetts     6902149\n",
       "DC          District of Columbia      702455\n",
       "UT                          Utah     3161105\n",
       "NY                      New York    19542209\n",
       "NJ                    New Jersey     8908520\n",
       "OH                          Ohio    11689442\n",
       "MO                      Missouri     6126452\n",
       "PA                  Pennsylvania    12807060\n",
       "MI                      Michigan     9995915\n",
       "NE                      Nebraska     1929268\n",
       "ID                         Idaho     1754208\n",
       "NM                    New Mexico     2095428\n",
       "HI                        Hawaii     1420491\n",
       "SD                  South Dakota      882235\n",
       "WA                    Washington     7535591\n",
       "RI                  Rhode Island     1057315\n",
       "AZ                       Arizona     7171646\n",
       "TN                     Tennessee     6770010\n",
       "KS                        Kansas     2911510\n",
       "USA                United States   327167439"
      ]
     },
     "execution_count": 15,
     "metadata": {},
     "output_type": "execute_result"
    }
   ],
   "source": [
    "c.set_index('state_code')"
   ]
  },
  {
   "cell_type": "code",
   "execution_count": 16,
   "metadata": {},
   "outputs": [
    {
     "data": {
      "text/html": [
       "<div>\n",
       "<style scoped>\n",
       "    .dataframe tbody tr th:only-of-type {\n",
       "        vertical-align: middle;\n",
       "    }\n",
       "\n",
       "    .dataframe tbody tr th {\n",
       "        vertical-align: top;\n",
       "    }\n",
       "\n",
       "    .dataframe thead th {\n",
       "        text-align: right;\n",
       "    }\n",
       "</style>\n",
       "<table border=\"1\" class=\"dataframe\">\n",
       "  <thead>\n",
       "    <tr style=\"text-align: right;\">\n",
       "      <th></th>\n",
       "      <th>State</th>\n",
       "      <th>Population</th>\n",
       "    </tr>\n",
       "    <tr>\n",
       "      <th>state_code</th>\n",
       "      <th></th>\n",
       "      <th></th>\n",
       "    </tr>\n",
       "  </thead>\n",
       "  <tbody>\n",
       "    <tr>\n",
       "      <td>CO</td>\n",
       "      <td>Colorado</td>\n",
       "      <td>5695564</td>\n",
       "    </tr>\n",
       "    <tr>\n",
       "      <td>IN</td>\n",
       "      <td>Indiana</td>\n",
       "      <td>6691878</td>\n",
       "    </tr>\n",
       "    <tr>\n",
       "      <td>KY</td>\n",
       "      <td>Kentucky</td>\n",
       "      <td>4468402</td>\n",
       "    </tr>\n",
       "    <tr>\n",
       "      <td>LA</td>\n",
       "      <td>Louisiana</td>\n",
       "      <td>4659978</td>\n",
       "    </tr>\n",
       "    <tr>\n",
       "      <td>IL</td>\n",
       "      <td>Illinois</td>\n",
       "      <td>12741080</td>\n",
       "    </tr>\n",
       "    <tr>\n",
       "      <td>IA</td>\n",
       "      <td>Iowa</td>\n",
       "      <td>3156145</td>\n",
       "    </tr>\n",
       "    <tr>\n",
       "      <td>NH</td>\n",
       "      <td>New Hampshire</td>\n",
       "      <td>1356458</td>\n",
       "    </tr>\n",
       "    <tr>\n",
       "      <td>AR</td>\n",
       "      <td>Arkansas</td>\n",
       "      <td>3013825</td>\n",
       "    </tr>\n",
       "    <tr>\n",
       "      <td>DE</td>\n",
       "      <td>Delaware</td>\n",
       "      <td>967171</td>\n",
       "    </tr>\n",
       "    <tr>\n",
       "      <td>MN</td>\n",
       "      <td>Minnesota</td>\n",
       "      <td>5611179</td>\n",
       "    </tr>\n",
       "    <tr>\n",
       "      <td>MT</td>\n",
       "      <td>Montana</td>\n",
       "      <td>1062305</td>\n",
       "    </tr>\n",
       "    <tr>\n",
       "      <td>ME</td>\n",
       "      <td>Maine</td>\n",
       "      <td>1338404</td>\n",
       "    </tr>\n",
       "    <tr>\n",
       "      <td>NC</td>\n",
       "      <td>North Carolina</td>\n",
       "      <td>10383620</td>\n",
       "    </tr>\n",
       "    <tr>\n",
       "      <td>GA</td>\n",
       "      <td>Georgia</td>\n",
       "      <td>10519475</td>\n",
       "    </tr>\n",
       "    <tr>\n",
       "      <td>AK</td>\n",
       "      <td>Alaska</td>\n",
       "      <td>737438</td>\n",
       "    </tr>\n",
       "    <tr>\n",
       "      <td>AL</td>\n",
       "      <td>Alabama</td>\n",
       "      <td>4887871</td>\n",
       "    </tr>\n",
       "    <tr>\n",
       "      <td>VT</td>\n",
       "      <td>Vermont</td>\n",
       "      <td>626299</td>\n",
       "    </tr>\n",
       "    <tr>\n",
       "      <td>NV</td>\n",
       "      <td>Nevada</td>\n",
       "      <td>3034392</td>\n",
       "    </tr>\n",
       "    <tr>\n",
       "      <td>WV</td>\n",
       "      <td>West Virginia</td>\n",
       "      <td>1805832</td>\n",
       "    </tr>\n",
       "    <tr>\n",
       "      <td>OK</td>\n",
       "      <td>Oklahoma</td>\n",
       "      <td>3943079</td>\n",
       "    </tr>\n",
       "    <tr>\n",
       "      <td>WI</td>\n",
       "      <td>Wisconsin</td>\n",
       "      <td>5813568</td>\n",
       "    </tr>\n",
       "    <tr>\n",
       "      <td>PR</td>\n",
       "      <td>Puerto Rico</td>\n",
       "      <td>3195153</td>\n",
       "    </tr>\n",
       "    <tr>\n",
       "      <td>VA</td>\n",
       "      <td>Virginia</td>\n",
       "      <td>8517685</td>\n",
       "    </tr>\n",
       "    <tr>\n",
       "      <td>ND</td>\n",
       "      <td>North Dakota</td>\n",
       "      <td>760077</td>\n",
       "    </tr>\n",
       "    <tr>\n",
       "      <td>SC</td>\n",
       "      <td>South Carolina</td>\n",
       "      <td>5084127</td>\n",
       "    </tr>\n",
       "    <tr>\n",
       "      <td>OR</td>\n",
       "      <td>Oregon</td>\n",
       "      <td>4190713</td>\n",
       "    </tr>\n",
       "    <tr>\n",
       "      <td>WY</td>\n",
       "      <td>Wyoming</td>\n",
       "      <td>577737</td>\n",
       "    </tr>\n",
       "    <tr>\n",
       "      <td>CA</td>\n",
       "      <td>California</td>\n",
       "      <td>39557045</td>\n",
       "    </tr>\n",
       "    <tr>\n",
       "      <td>MS</td>\n",
       "      <td>Mississippi</td>\n",
       "      <td>2986530</td>\n",
       "    </tr>\n",
       "    <tr>\n",
       "      <td>CT</td>\n",
       "      <td>Connecticut</td>\n",
       "      <td>3572665</td>\n",
       "    </tr>\n",
       "    <tr>\n",
       "      <td>TX</td>\n",
       "      <td>Texas</td>\n",
       "      <td>28701845</td>\n",
       "    </tr>\n",
       "    <tr>\n",
       "      <td>MD</td>\n",
       "      <td>Maryland</td>\n",
       "      <td>6042718</td>\n",
       "    </tr>\n",
       "    <tr>\n",
       "      <td>FL</td>\n",
       "      <td>Florida</td>\n",
       "      <td>21299325</td>\n",
       "    </tr>\n",
       "    <tr>\n",
       "      <td>MA</td>\n",
       "      <td>Massachusetts</td>\n",
       "      <td>6902149</td>\n",
       "    </tr>\n",
       "    <tr>\n",
       "      <td>DC</td>\n",
       "      <td>District of Columbia</td>\n",
       "      <td>702455</td>\n",
       "    </tr>\n",
       "    <tr>\n",
       "      <td>UT</td>\n",
       "      <td>Utah</td>\n",
       "      <td>3161105</td>\n",
       "    </tr>\n",
       "    <tr>\n",
       "      <td>NY</td>\n",
       "      <td>New York</td>\n",
       "      <td>19542209</td>\n",
       "    </tr>\n",
       "    <tr>\n",
       "      <td>NJ</td>\n",
       "      <td>New Jersey</td>\n",
       "      <td>8908520</td>\n",
       "    </tr>\n",
       "    <tr>\n",
       "      <td>OH</td>\n",
       "      <td>Ohio</td>\n",
       "      <td>11689442</td>\n",
       "    </tr>\n",
       "    <tr>\n",
       "      <td>MO</td>\n",
       "      <td>Missouri</td>\n",
       "      <td>6126452</td>\n",
       "    </tr>\n",
       "    <tr>\n",
       "      <td>PA</td>\n",
       "      <td>Pennsylvania</td>\n",
       "      <td>12807060</td>\n",
       "    </tr>\n",
       "    <tr>\n",
       "      <td>MI</td>\n",
       "      <td>Michigan</td>\n",
       "      <td>9995915</td>\n",
       "    </tr>\n",
       "    <tr>\n",
       "      <td>NE</td>\n",
       "      <td>Nebraska</td>\n",
       "      <td>1929268</td>\n",
       "    </tr>\n",
       "    <tr>\n",
       "      <td>ID</td>\n",
       "      <td>Idaho</td>\n",
       "      <td>1754208</td>\n",
       "    </tr>\n",
       "    <tr>\n",
       "      <td>NM</td>\n",
       "      <td>New Mexico</td>\n",
       "      <td>2095428</td>\n",
       "    </tr>\n",
       "    <tr>\n",
       "      <td>HI</td>\n",
       "      <td>Hawaii</td>\n",
       "      <td>1420491</td>\n",
       "    </tr>\n",
       "    <tr>\n",
       "      <td>SD</td>\n",
       "      <td>South Dakota</td>\n",
       "      <td>882235</td>\n",
       "    </tr>\n",
       "    <tr>\n",
       "      <td>WA</td>\n",
       "      <td>Washington</td>\n",
       "      <td>7535591</td>\n",
       "    </tr>\n",
       "    <tr>\n",
       "      <td>RI</td>\n",
       "      <td>Rhode Island</td>\n",
       "      <td>1057315</td>\n",
       "    </tr>\n",
       "    <tr>\n",
       "      <td>AZ</td>\n",
       "      <td>Arizona</td>\n",
       "      <td>7171646</td>\n",
       "    </tr>\n",
       "    <tr>\n",
       "      <td>TN</td>\n",
       "      <td>Tennessee</td>\n",
       "      <td>6770010</td>\n",
       "    </tr>\n",
       "    <tr>\n",
       "      <td>KS</td>\n",
       "      <td>Kansas</td>\n",
       "      <td>2911510</td>\n",
       "    </tr>\n",
       "    <tr>\n",
       "      <td>USA</td>\n",
       "      <td>United States</td>\n",
       "      <td>327167439</td>\n",
       "    </tr>\n",
       "  </tbody>\n",
       "</table>\n",
       "</div>"
      ],
      "text/plain": [
       "                           State  Population\n",
       "state_code                                  \n",
       "CO                      Colorado     5695564\n",
       "IN                       Indiana     6691878\n",
       "KY                      Kentucky     4468402\n",
       "LA                     Louisiana     4659978\n",
       "IL                      Illinois    12741080\n",
       "IA                          Iowa     3156145\n",
       "NH                 New Hampshire     1356458\n",
       "AR                      Arkansas     3013825\n",
       "DE                      Delaware      967171\n",
       "MN                     Minnesota     5611179\n",
       "MT                       Montana     1062305\n",
       "ME                         Maine     1338404\n",
       "NC                North Carolina    10383620\n",
       "GA                       Georgia    10519475\n",
       "AK                        Alaska      737438\n",
       "AL                       Alabama     4887871\n",
       "VT                       Vermont      626299\n",
       "NV                        Nevada     3034392\n",
       "WV                 West Virginia     1805832\n",
       "OK                      Oklahoma     3943079\n",
       "WI                     Wisconsin     5813568\n",
       "PR                   Puerto Rico     3195153\n",
       "VA                      Virginia     8517685\n",
       "ND                  North Dakota      760077\n",
       "SC                South Carolina     5084127\n",
       "OR                        Oregon     4190713\n",
       "WY                       Wyoming      577737\n",
       "CA                    California    39557045\n",
       "MS                   Mississippi     2986530\n",
       "CT                   Connecticut     3572665\n",
       "TX                         Texas    28701845\n",
       "MD                      Maryland     6042718\n",
       "FL                       Florida    21299325\n",
       "MA                 Massachusetts     6902149\n",
       "DC          District of Columbia      702455\n",
       "UT                          Utah     3161105\n",
       "NY                      New York    19542209\n",
       "NJ                    New Jersey     8908520\n",
       "OH                          Ohio    11689442\n",
       "MO                      Missouri     6126452\n",
       "PA                  Pennsylvania    12807060\n",
       "MI                      Michigan     9995915\n",
       "NE                      Nebraska     1929268\n",
       "ID                         Idaho     1754208\n",
       "NM                    New Mexico     2095428\n",
       "HI                        Hawaii     1420491\n",
       "SD                  South Dakota      882235\n",
       "WA                    Washington     7535591\n",
       "RI                  Rhode Island     1057315\n",
       "AZ                       Arizona     7171646\n",
       "TN                     Tennessee     6770010\n",
       "KS                        Kansas     2911510\n",
       "USA                United States   327167439"
      ]
     },
     "execution_count": 16,
     "metadata": {},
     "output_type": "execute_result"
    }
   ],
   "source": [
    "c.set_index('state_code')"
   ]
  },
  {
   "cell_type": "markdown",
   "metadata": {},
   "source": [
    "drop the full name of the state and turn this into a dictionary where the state abbreviation key has a value of the population"
   ]
  },
  {
   "cell_type": "code",
   "execution_count": 17,
   "metadata": {},
   "outputs": [],
   "source": [
    "c=c.drop(columns='State')\n",
    "c=c.set_index('state_code')\n",
    "c=c.to_dict()"
   ]
  },
  {
   "cell_type": "markdown",
   "metadata": {},
   "source": [
    "because there are some missing values, manually add in each missing value with their population based on 2018 census"
   ]
  },
  {
   "cell_type": "code",
   "execution_count": 18,
   "metadata": {},
   "outputs": [],
   "source": [
    "c['Population']['AS']=55465 \n",
    "c['Population']['GU']=165768\n",
    "c['Population']['MP']=56882\n",
    "c['Population']['VI']=106977"
   ]
  },
  {
   "cell_type": "code",
   "execution_count": 19,
   "metadata": {},
   "outputs": [
    {
     "data": {
      "text/plain": [
       "{'Population': {'CO': 5695564,\n",
       "  'IN': 6691878,\n",
       "  'KY': 4468402,\n",
       "  'LA': 4659978,\n",
       "  'IL': 12741080,\n",
       "  'IA': 3156145,\n",
       "  'NH': 1356458,\n",
       "  'AR': 3013825,\n",
       "  'DE': 967171,\n",
       "  'MN': 5611179,\n",
       "  'MT': 1062305,\n",
       "  'ME': 1338404,\n",
       "  'NC': 10383620,\n",
       "  'GA': 10519475,\n",
       "  'AK': 737438,\n",
       "  'AL': 4887871,\n",
       "  'VT': 626299,\n",
       "  'NV': 3034392,\n",
       "  'WV': 1805832,\n",
       "  'OK': 3943079,\n",
       "  'WI': 5813568,\n",
       "  'PR': 3195153,\n",
       "  'VA': 8517685,\n",
       "  'ND': 760077,\n",
       "  'SC': 5084127,\n",
       "  'OR': 4190713,\n",
       "  'WY': 577737,\n",
       "  'CA': 39557045,\n",
       "  'MS': 2986530,\n",
       "  'CT': 3572665,\n",
       "  'TX': 28701845,\n",
       "  'MD': 6042718,\n",
       "  'FL': 21299325,\n",
       "  'MA': 6902149,\n",
       "  'DC': 702455,\n",
       "  'UT': 3161105,\n",
       "  'NY': 19542209,\n",
       "  'NJ': 8908520,\n",
       "  'OH': 11689442,\n",
       "  'MO': 6126452,\n",
       "  'PA': 12807060,\n",
       "  'MI': 9995915,\n",
       "  'NE': 1929268,\n",
       "  'ID': 1754208,\n",
       "  'NM': 2095428,\n",
       "  'HI': 1420491,\n",
       "  'SD': 882235,\n",
       "  'WA': 7535591,\n",
       "  'RI': 1057315,\n",
       "  'AZ': 7171646,\n",
       "  'TN': 6770010,\n",
       "  'KS': 2911510,\n",
       "  'USA': 327167439,\n",
       "  'AS': 55465,\n",
       "  'GU': 165768,\n",
       "  'MP': 56882,\n",
       "  'VI': 106977}}"
      ]
     },
     "execution_count": 19,
     "metadata": {},
     "output_type": "execute_result"
    }
   ],
   "source": [
    "c"
   ]
  },
  {
   "cell_type": "markdown",
   "metadata": {},
   "source": [
    "We now make a list of the state's population in order of how the states are listed in the covid dataframe."
   ]
  },
  {
   "cell_type": "code",
   "execution_count": 20,
   "metadata": {},
   "outputs": [],
   "source": [
    "\n",
    "\n",
    "statelist=[]\n",
    "for s in df['state']:\n",
    "    if s in c['Population'].keys():\n",
    "        statelist.append(c['Population'][s])\n",
    "    else:\n",
    "        statelist.append(0)"
   ]
  },
  {
   "cell_type": "code",
   "execution_count": 21,
   "metadata": {},
   "outputs": [],
   "source": [
    "statelist=np.array(statelist)"
   ]
  },
  {
   "cell_type": "markdown",
   "metadata": {},
   "source": [
    "put these populations in a new column of the covid data "
   ]
  },
  {
   "cell_type": "code",
   "execution_count": 22,
   "metadata": {},
   "outputs": [],
   "source": [
    "df['state_pop']=statelist"
   ]
  },
  {
   "cell_type": "markdown",
   "metadata": {},
   "source": [
    "We convert columns to be used to the type \"float\" in order to do calculations "
   ]
  },
  {
   "cell_type": "code",
   "execution_count": 23,
   "metadata": {},
   "outputs": [],
   "source": [
    "df['positive']=df['positive'].astype(float)\n",
    "df['death']=df['death'].astype(float)\n",
    "df['totalTestResults']=df['totalTestResults'].astype(float)"
   ]
  },
  {
   "cell_type": "markdown",
   "metadata": {},
   "source": [
    "We make new columns that shows covid data relative to the state population in thousands or hundred thousands.\n",
    "\n",
    "The new values are : death per hundred thousand of state population,  death increase today per hundred thousand,\n",
    "tests per thousand of state population, positive cases per thousand, increase in positive cases per thousand, and test increase per thousand.\n",
    "\n",
    "These new values make comparing covid data for different size states possible rather than only comparing  numbers.\n"
   ]
  },
  {
   "cell_type": "code",
   "execution_count": 24,
   "metadata": {},
   "outputs": [],
   "source": [
    "\n",
    "df['death per hundred thous']=df['death']/(df['state_pop'].astype(int)/100000)\n",
    "df['death increase per hun thousand']=df['deathIncrease']/(df['state_pop'].astype(int)/100000)\n",
    "df['positive per thousand']=df['positive']/(df['state_pop'].astype(int)/1000)\n",
    "df['positive increase per thousand']=df['positiveIncrease']/(df['state_pop'].astype(int)/1000)\n",
    "df['tests per thousand']=df['totalTestResults']/(df['state_pop'].astype(int)/1000)\n",
    "df['test increase per thousand']=df['totalTestResultsIncrease']/(df['state_pop'].astype(int)/1000)\n"
   ]
  },
  {
   "cell_type": "markdown",
   "metadata": {},
   "source": [
    "we also want to know the average positive increase per day based on the past week.\n",
    "\n",
    "first we must create a dataframe of data from the past week."
   ]
  },
  {
   "cell_type": "code",
   "execution_count": 25,
   "metadata": {},
   "outputs": [],
   "source": [
    "past_sev_days = df[df['date'] > dt.datetime.today()-dt.timedelta(days=7)]"
   ]
  },
  {
   "cell_type": "code",
   "execution_count": 29,
   "metadata": {},
   "outputs": [
    {
     "data": {
      "text/html": [
       "<div>\n",
       "<style scoped>\n",
       "    .dataframe tbody tr th:only-of-type {\n",
       "        vertical-align: middle;\n",
       "    }\n",
       "\n",
       "    .dataframe tbody tr th {\n",
       "        vertical-align: top;\n",
       "    }\n",
       "\n",
       "    .dataframe thead th {\n",
       "        text-align: right;\n",
       "    }\n",
       "</style>\n",
       "<table border=\"1\" class=\"dataframe\">\n",
       "  <thead>\n",
       "    <tr style=\"text-align: right;\">\n",
       "      <th></th>\n",
       "      <th>state_pop</th>\n",
       "      <th>death per hundred thous</th>\n",
       "      <th>death increase per hun thousand</th>\n",
       "      <th>positive per thousand</th>\n",
       "      <th>positive increase per thousand</th>\n",
       "      <th>tests per thousand</th>\n",
       "      <th>test increase per thousand</th>\n",
       "    </tr>\n",
       "  </thead>\n",
       "  <tbody>\n",
       "    <tr>\n",
       "      <td>0</td>\n",
       "      <td>737438</td>\n",
       "      <td>5.288580</td>\n",
       "      <td>0.000000</td>\n",
       "      <td>8.452236</td>\n",
       "      <td>0.098991</td>\n",
       "      <td>511.072117</td>\n",
       "      <td>3.565045</td>\n",
       "    </tr>\n",
       "    <tr>\n",
       "      <td>1</td>\n",
       "      <td>4887871</td>\n",
       "      <td>45.357171</td>\n",
       "      <td>0.347800</td>\n",
       "      <td>26.236167</td>\n",
       "      <td>0.127458</td>\n",
       "      <td>197.270550</td>\n",
       "      <td>1.086976</td>\n",
       "    </tr>\n",
       "    <tr>\n",
       "      <td>2</td>\n",
       "      <td>3013825</td>\n",
       "      <td>27.904739</td>\n",
       "      <td>0.895872</td>\n",
       "      <td>20.609027</td>\n",
       "      <td>0.204060</td>\n",
       "      <td>244.688726</td>\n",
       "      <td>2.131511</td>\n",
       "    </tr>\n",
       "    <tr>\n",
       "      <td>3</td>\n",
       "      <td>55465</td>\n",
       "      <td>0.000000</td>\n",
       "      <td>0.000000</td>\n",
       "      <td>0.000000</td>\n",
       "      <td>0.000000</td>\n",
       "      <td>27.296493</td>\n",
       "      <td>0.000000</td>\n",
       "    </tr>\n",
       "    <tr>\n",
       "      <td>4</td>\n",
       "      <td>7171646</td>\n",
       "      <td>70.625349</td>\n",
       "      <td>0.292820</td>\n",
       "      <td>28.286533</td>\n",
       "      <td>0.072368</td>\n",
       "      <td>169.267557</td>\n",
       "      <td>0.688405</td>\n",
       "    </tr>\n",
       "  </tbody>\n",
       "</table>\n",
       "</div>"
      ],
      "text/plain": [
       "   state_pop  death per hundred thous  death increase per hun thousand  \\\n",
       "0     737438                 5.288580                         0.000000   \n",
       "1    4887871                45.357171                         0.347800   \n",
       "2    3013825                27.904739                         0.895872   \n",
       "3      55465                 0.000000                         0.000000   \n",
       "4    7171646                70.625349                         0.292820   \n",
       "\n",
       "   positive per thousand  positive increase per thousand  tests per thousand  \\\n",
       "0               8.452236                        0.098991          511.072117   \n",
       "1              26.236167                        0.127458          197.270550   \n",
       "2              20.609027                        0.204060          244.688726   \n",
       "3               0.000000                        0.000000           27.296493   \n",
       "4              28.286533                        0.072368          169.267557   \n",
       "\n",
       "   test increase per thousand  \n",
       "0                    3.565045  \n",
       "1                    1.086976  \n",
       "2                    2.131511  \n",
       "3                    0.000000  \n",
       "4                    0.688405  "
      ]
     },
     "execution_count": 29,
     "metadata": {},
     "output_type": "execute_result"
    }
   ],
   "source": [
    "past_sev_days.iloc[:,-7:].head()"
   ]
  },
  {
   "cell_type": "markdown",
   "metadata": {},
   "source": [
    "Now we attain the mean positive increase in cases per state from this past week's data."
   ]
  },
  {
   "cell_type": "code",
   "execution_count": 30,
   "metadata": {},
   "outputs": [],
   "source": [
    "avg_sev_inc = past_sev_days.groupby(['state']).mean()['positiveIncrease']"
   ]
  },
  {
   "cell_type": "markdown",
   "metadata": {},
   "source": [
    "Convert this to a dictionary which we will later when we look up values in the order of states listed in our data frame, to make a list of mean positive increases in the order of their corresponding states."
   ]
  },
  {
   "cell_type": "code",
   "execution_count": 31,
   "metadata": {},
   "outputs": [],
   "source": [
    "avg_sev_inc=avg_sev_inc.to_dict()"
   ]
  },
  {
   "cell_type": "code",
   "execution_count": 32,
   "metadata": {},
   "outputs": [
    {
     "data": {
      "text/plain": [
       "{'AK': 72.0,\n",
       " 'AL': 1202.6666666666667,\n",
       " 'AR': 561.1666666666666,\n",
       " 'AS': 0.0,\n",
       " 'AZ': 453.6666666666667,\n",
       " 'CA': 4753.833333333333,\n",
       " 'CO': 297.0,\n",
       " 'CT': 126.33333333333333,\n",
       " 'DC': 47.166666666666664,\n",
       " 'DE': 95.5,\n",
       " 'FL': 3575.1666666666665,\n",
       " 'GA': 1923.1666666666667,\n",
       " 'GU': 43.666666666666664,\n",
       " 'HI': 232.16666666666666,\n",
       " 'IA': 809.8333333333334,\n",
       " 'ID': 264.6666666666667,\n",
       " 'IL': 1932.3333333333333,\n",
       " 'IN': 874.3333333333334,\n",
       " 'KS': 667.1666666666666,\n",
       " 'KY': 668.8333333333334,\n",
       " 'LA': 700.1666666666666,\n",
       " 'MA': -998.8333333333334,\n",
       " 'MD': 542.6666666666666,\n",
       " 'ME': 25.5,\n",
       " 'MI': 687.5,\n",
       " 'MN': 782.5,\n",
       " 'MO': 1273.1666666666667,\n",
       " 'MP': 0.5,\n",
       " 'MS': 611.6666666666666,\n",
       " 'MT': 127.0,\n",
       " 'NC': 1579.5,\n",
       " 'ND': 244.5,\n",
       " 'NE': 307.8333333333333,\n",
       " 'NH': 17.166666666666668,\n",
       " 'NJ': 330.3333333333333,\n",
       " 'NM': 121.33333333333333,\n",
       " 'NV': 442.0,\n",
       " 'NY': 681.1666666666666,\n",
       " 'OH': 1156.5,\n",
       " 'OK': 761.3333333333334,\n",
       " 'OR': 219.0,\n",
       " 'PA': 742.5,\n",
       " 'PR': 436.6666666666667,\n",
       " 'RI': 81.5,\n",
       " 'SC': 984.1666666666666,\n",
       " 'SD': 301.5,\n",
       " 'TN': 1442.0,\n",
       " 'TX': 3988.3333333333335,\n",
       " 'UT': 377.5,\n",
       " 'VA': 1180.6666666666667,\n",
       " 'VI': 15.166666666666666,\n",
       " 'VT': 8.5,\n",
       " 'WA': 463.0,\n",
       " 'WI': 696.3333333333334,\n",
       " 'WV': 168.16666666666666,\n",
       " 'WY': 31.5}"
      ]
     },
     "execution_count": 32,
     "metadata": {},
     "output_type": "execute_result"
    }
   ],
   "source": [
    "avg_sev_inc"
   ]
  },
  {
   "cell_type": "markdown",
   "metadata": {},
   "source": [
    "We construct a list of average daily positive increases from the past 7 days, in the order of the states listed in the past_sev_days  dataframe."
   ]
  },
  {
   "cell_type": "code",
   "execution_count": 33,
   "metadata": {},
   "outputs": [],
   "source": [
    "avg_sev_list=[]\n",
    "for s in past_sev_days['state']:\n",
    "    avg_sev_list.append(avg_sev_inc[s])"
   ]
  },
  {
   "cell_type": "markdown",
   "metadata": {},
   "source": [
    "add this ordered list of avg 7 day increase as a column in the dataframe of this past week's covid data.\n"
   ]
  },
  {
   "cell_type": "code",
   "execution_count": 34,
   "metadata": {},
   "outputs": [
    {
     "name": "stderr",
     "output_type": "stream",
     "text": [
      "/opt/anaconda3/lib/python3.7/site-packages/ipykernel_launcher.py:1: SettingWithCopyWarning: \n",
      "A value is trying to be set on a copy of a slice from a DataFrame.\n",
      "Try using .loc[row_indexer,col_indexer] = value instead\n",
      "\n",
      "See the caveats in the documentation: http://pandas.pydata.org/pandas-docs/stable/user_guide/indexing.html#returning-a-view-versus-a-copy\n",
      "  \"\"\"Entry point for launching an IPython kernel.\n",
      "/opt/anaconda3/lib/python3.7/site-packages/ipykernel_launcher.py:2: SettingWithCopyWarning: \n",
      "A value is trying to be set on a copy of a slice from a DataFrame.\n",
      "Try using .loc[row_indexer,col_indexer] = value instead\n",
      "\n",
      "See the caveats in the documentation: http://pandas.pydata.org/pandas-docs/stable/user_guide/indexing.html#returning-a-view-versus-a-copy\n",
      "  \n"
     ]
    }
   ],
   "source": [
    "past_sev_days['avg 7 day increase']=avg_sev_list\n",
    "past_sev_days['avg 7 day increase per thousand']=avg_sev_list/(past_sev_days['state_pop'].astype(int)/1000)"
   ]
  },
  {
   "cell_type": "code",
   "execution_count": 36,
   "metadata": {},
   "outputs": [
    {
     "data": {
      "text/html": [
       "<div>\n",
       "<style scoped>\n",
       "    .dataframe tbody tr th:only-of-type {\n",
       "        vertical-align: middle;\n",
       "    }\n",
       "\n",
       "    .dataframe tbody tr th {\n",
       "        vertical-align: top;\n",
       "    }\n",
       "\n",
       "    .dataframe thead th {\n",
       "        text-align: right;\n",
       "    }\n",
       "</style>\n",
       "<table border=\"1\" class=\"dataframe\">\n",
       "  <thead>\n",
       "    <tr style=\"text-align: right;\">\n",
       "      <th></th>\n",
       "      <th>death increase per hun thousand</th>\n",
       "      <th>positive per thousand</th>\n",
       "      <th>positive increase per thousand</th>\n",
       "      <th>tests per thousand</th>\n",
       "      <th>test increase per thousand</th>\n",
       "      <th>avg 7 day increase</th>\n",
       "      <th>avg 7 day increase per thousand</th>\n",
       "    </tr>\n",
       "  </thead>\n",
       "  <tbody>\n",
       "    <tr>\n",
       "      <td>0</td>\n",
       "      <td>0.000000</td>\n",
       "      <td>8.452236</td>\n",
       "      <td>0.098991</td>\n",
       "      <td>511.072117</td>\n",
       "      <td>3.565045</td>\n",
       "      <td>72.000000</td>\n",
       "      <td>0.097635</td>\n",
       "    </tr>\n",
       "    <tr>\n",
       "      <td>1</td>\n",
       "      <td>0.347800</td>\n",
       "      <td>26.236167</td>\n",
       "      <td>0.127458</td>\n",
       "      <td>197.270550</td>\n",
       "      <td>1.086976</td>\n",
       "      <td>1202.666667</td>\n",
       "      <td>0.246051</td>\n",
       "    </tr>\n",
       "    <tr>\n",
       "      <td>2</td>\n",
       "      <td>0.895872</td>\n",
       "      <td>20.609027</td>\n",
       "      <td>0.204060</td>\n",
       "      <td>244.688726</td>\n",
       "      <td>2.131511</td>\n",
       "      <td>561.166667</td>\n",
       "      <td>0.186197</td>\n",
       "    </tr>\n",
       "    <tr>\n",
       "      <td>3</td>\n",
       "      <td>0.000000</td>\n",
       "      <td>0.000000</td>\n",
       "      <td>0.000000</td>\n",
       "      <td>27.296493</td>\n",
       "      <td>0.000000</td>\n",
       "      <td>0.000000</td>\n",
       "      <td>0.000000</td>\n",
       "    </tr>\n",
       "    <tr>\n",
       "      <td>4</td>\n",
       "      <td>0.292820</td>\n",
       "      <td>28.286533</td>\n",
       "      <td>0.072368</td>\n",
       "      <td>169.267557</td>\n",
       "      <td>0.688405</td>\n",
       "      <td>453.666667</td>\n",
       "      <td>0.063258</td>\n",
       "    </tr>\n",
       "  </tbody>\n",
       "</table>\n",
       "</div>"
      ],
      "text/plain": [
       "   death increase per hun thousand  positive per thousand  \\\n",
       "0                         0.000000               8.452236   \n",
       "1                         0.347800              26.236167   \n",
       "2                         0.895872              20.609027   \n",
       "3                         0.000000               0.000000   \n",
       "4                         0.292820              28.286533   \n",
       "\n",
       "   positive increase per thousand  tests per thousand  \\\n",
       "0                        0.098991          511.072117   \n",
       "1                        0.127458          197.270550   \n",
       "2                        0.204060          244.688726   \n",
       "3                        0.000000           27.296493   \n",
       "4                        0.072368          169.267557   \n",
       "\n",
       "   test increase per thousand  avg 7 day increase  \\\n",
       "0                    3.565045           72.000000   \n",
       "1                    1.086976         1202.666667   \n",
       "2                    2.131511          561.166667   \n",
       "3                    0.000000            0.000000   \n",
       "4                    0.688405          453.666667   \n",
       "\n",
       "   avg 7 day increase per thousand  \n",
       "0                         0.097635  \n",
       "1                         0.246051  \n",
       "2                         0.186197  \n",
       "3                         0.000000  \n",
       "4                         0.063258  "
      ]
     },
     "execution_count": 36,
     "metadata": {},
     "output_type": "execute_result"
    }
   ],
   "source": [
    "past_sev_days.iloc[:,-7:].head()"
   ]
  },
  {
   "cell_type": "markdown",
   "metadata": {},
   "source": [
    "create a dataframe of today's data, which we will use in our choropleth."
   ]
  },
  {
   "cell_type": "code",
   "execution_count": 79,
   "metadata": {},
   "outputs": [],
   "source": [
    "\n",
    "today =past_sev_days[past_sev_days['date']==past_sev_days['date'].max()]"
   ]
  },
  {
   "cell_type": "code",
   "execution_count": 80,
   "metadata": {
    "scrolled": false
   },
   "outputs": [
    {
     "data": {
      "text/html": [
       "<div>\n",
       "<style scoped>\n",
       "    .dataframe tbody tr th:only-of-type {\n",
       "        vertical-align: middle;\n",
       "    }\n",
       "\n",
       "    .dataframe tbody tr th {\n",
       "        vertical-align: top;\n",
       "    }\n",
       "\n",
       "    .dataframe thead th {\n",
       "        text-align: right;\n",
       "    }\n",
       "</style>\n",
       "<table border=\"1\" class=\"dataframe\">\n",
       "  <thead>\n",
       "    <tr style=\"text-align: right;\">\n",
       "      <th></th>\n",
       "      <th>date</th>\n",
       "      <th>state</th>\n",
       "      <th>positive</th>\n",
       "      <th>negative</th>\n",
       "      <th>pending</th>\n",
       "      <th>hospitalizedCurrently</th>\n",
       "      <th>hospitalizedCumulative</th>\n",
       "      <th>inIcuCurrently</th>\n",
       "      <th>inIcuCumulative</th>\n",
       "      <th>onVentilatorCurrently</th>\n",
       "      <th>...</th>\n",
       "      <th>grade</th>\n",
       "      <th>state_pop</th>\n",
       "      <th>death per hundred thous</th>\n",
       "      <th>death increase per hun thousand</th>\n",
       "      <th>positive per thousand</th>\n",
       "      <th>positive increase per thousand</th>\n",
       "      <th>tests per thousand</th>\n",
       "      <th>test increase per thousand</th>\n",
       "      <th>avg 7 day increase</th>\n",
       "      <th>avg 7 day increase per thousand</th>\n",
       "    </tr>\n",
       "  </thead>\n",
       "  <tbody>\n",
       "    <tr>\n",
       "      <td>0</td>\n",
       "      <td>2020-09-02</td>\n",
       "      <td>AK</td>\n",
       "      <td>6233.0</td>\n",
       "      <td>370651.0</td>\n",
       "      <td>NaN</td>\n",
       "      <td>46.0</td>\n",
       "      <td>NaN</td>\n",
       "      <td>NaN</td>\n",
       "      <td>NaN</td>\n",
       "      <td>10.0</td>\n",
       "      <td>...</td>\n",
       "      <td>NaN</td>\n",
       "      <td>737438</td>\n",
       "      <td>5.288580</td>\n",
       "      <td>0.000000</td>\n",
       "      <td>8.452236</td>\n",
       "      <td>0.098991</td>\n",
       "      <td>511.072117</td>\n",
       "      <td>3.565045</td>\n",
       "      <td>72.000000</td>\n",
       "      <td>0.097635</td>\n",
       "    </tr>\n",
       "    <tr>\n",
       "      <td>1</td>\n",
       "      <td>2020-09-02</td>\n",
       "      <td>AL</td>\n",
       "      <td>128239.0</td>\n",
       "      <td>835994.0</td>\n",
       "      <td>NaN</td>\n",
       "      <td>959.0</td>\n",
       "      <td>14753.0</td>\n",
       "      <td>NaN</td>\n",
       "      <td>1501.0</td>\n",
       "      <td>NaN</td>\n",
       "      <td>...</td>\n",
       "      <td>NaN</td>\n",
       "      <td>4887871</td>\n",
       "      <td>45.357171</td>\n",
       "      <td>0.347800</td>\n",
       "      <td>26.236167</td>\n",
       "      <td>0.127458</td>\n",
       "      <td>197.270550</td>\n",
       "      <td>1.086976</td>\n",
       "      <td>1202.666667</td>\n",
       "      <td>0.246051</td>\n",
       "    </tr>\n",
       "    <tr>\n",
       "      <td>2</td>\n",
       "      <td>2020-09-02</td>\n",
       "      <td>AR</td>\n",
       "      <td>62112.0</td>\n",
       "      <td>675337.0</td>\n",
       "      <td>NaN</td>\n",
       "      <td>435.0</td>\n",
       "      <td>4341.0</td>\n",
       "      <td>NaN</td>\n",
       "      <td>NaN</td>\n",
       "      <td>90.0</td>\n",
       "      <td>...</td>\n",
       "      <td>NaN</td>\n",
       "      <td>3013825</td>\n",
       "      <td>27.904739</td>\n",
       "      <td>0.895872</td>\n",
       "      <td>20.609027</td>\n",
       "      <td>0.204060</td>\n",
       "      <td>244.688726</td>\n",
       "      <td>2.131511</td>\n",
       "      <td>561.166667</td>\n",
       "      <td>0.186197</td>\n",
       "    </tr>\n",
       "    <tr>\n",
       "      <td>3</td>\n",
       "      <td>2020-09-02</td>\n",
       "      <td>AS</td>\n",
       "      <td>0.0</td>\n",
       "      <td>1514.0</td>\n",
       "      <td>NaN</td>\n",
       "      <td>NaN</td>\n",
       "      <td>NaN</td>\n",
       "      <td>NaN</td>\n",
       "      <td>NaN</td>\n",
       "      <td>NaN</td>\n",
       "      <td>...</td>\n",
       "      <td>NaN</td>\n",
       "      <td>55465</td>\n",
       "      <td>0.000000</td>\n",
       "      <td>0.000000</td>\n",
       "      <td>0.000000</td>\n",
       "      <td>0.000000</td>\n",
       "      <td>27.296493</td>\n",
       "      <td>0.000000</td>\n",
       "      <td>0.000000</td>\n",
       "      <td>0.000000</td>\n",
       "    </tr>\n",
       "    <tr>\n",
       "      <td>4</td>\n",
       "      <td>2020-09-02</td>\n",
       "      <td>AZ</td>\n",
       "      <td>202861.0</td>\n",
       "      <td>1011066.0</td>\n",
       "      <td>NaN</td>\n",
       "      <td>752.0</td>\n",
       "      <td>21449.0</td>\n",
       "      <td>248.0</td>\n",
       "      <td>NaN</td>\n",
       "      <td>146.0</td>\n",
       "      <td>...</td>\n",
       "      <td>NaN</td>\n",
       "      <td>7171646</td>\n",
       "      <td>70.625349</td>\n",
       "      <td>0.292820</td>\n",
       "      <td>28.286533</td>\n",
       "      <td>0.072368</td>\n",
       "      <td>169.267557</td>\n",
       "      <td>0.688405</td>\n",
       "      <td>453.666667</td>\n",
       "      <td>0.063258</td>\n",
       "    </tr>\n",
       "  </tbody>\n",
       "</table>\n",
       "<p>5 rows × 63 columns</p>\n",
       "</div>"
      ],
      "text/plain": [
       "        date state  positive   negative  pending  hospitalizedCurrently  \\\n",
       "0 2020-09-02    AK    6233.0   370651.0      NaN                   46.0   \n",
       "1 2020-09-02    AL  128239.0   835994.0      NaN                  959.0   \n",
       "2 2020-09-02    AR   62112.0   675337.0      NaN                  435.0   \n",
       "3 2020-09-02    AS       0.0     1514.0      NaN                    NaN   \n",
       "4 2020-09-02    AZ  202861.0  1011066.0      NaN                  752.0   \n",
       "\n",
       "   hospitalizedCumulative  inIcuCurrently  inIcuCumulative  \\\n",
       "0                     NaN             NaN              NaN   \n",
       "1                 14753.0             NaN           1501.0   \n",
       "2                  4341.0             NaN              NaN   \n",
       "3                     NaN             NaN              NaN   \n",
       "4                 21449.0           248.0              NaN   \n",
       "\n",
       "   onVentilatorCurrently  ...  grade  state_pop death per hundred thous  \\\n",
       "0                   10.0  ...    NaN     737438                5.288580   \n",
       "1                    NaN  ...    NaN    4887871               45.357171   \n",
       "2                   90.0  ...    NaN    3013825               27.904739   \n",
       "3                    NaN  ...    NaN      55465                0.000000   \n",
       "4                  146.0  ...    NaN    7171646               70.625349   \n",
       "\n",
       "  death increase per hun thousand positive per thousand  \\\n",
       "0                        0.000000              8.452236   \n",
       "1                        0.347800             26.236167   \n",
       "2                        0.895872             20.609027   \n",
       "3                        0.000000              0.000000   \n",
       "4                        0.292820             28.286533   \n",
       "\n",
       "  positive increase per thousand  tests per thousand  \\\n",
       "0                       0.098991          511.072117   \n",
       "1                       0.127458          197.270550   \n",
       "2                       0.204060          244.688726   \n",
       "3                       0.000000           27.296493   \n",
       "4                       0.072368          169.267557   \n",
       "\n",
       "   test increase per thousand avg 7 day increase  \\\n",
       "0                    3.565045          72.000000   \n",
       "1                    1.086976        1202.666667   \n",
       "2                    2.131511         561.166667   \n",
       "3                    0.000000           0.000000   \n",
       "4                    0.688405         453.666667   \n",
       "\n",
       "   avg 7 day increase per thousand  \n",
       "0                         0.097635  \n",
       "1                         0.246051  \n",
       "2                         0.186197  \n",
       "3                         0.000000  \n",
       "4                         0.063258  \n",
       "\n",
       "[5 rows x 63 columns]"
      ]
     },
     "execution_count": 80,
     "metadata": {},
     "output_type": "execute_result"
    }
   ],
   "source": [
    "today.head()"
   ]
  },
  {
   "cell_type": "markdown",
   "metadata": {},
   "source": [
    "# Insights\n"
   ]
  },
  {
   "cell_type": "markdown",
   "metadata": {},
   "source": [
    "Get descriptive statistics of all the new columns we created.\n",
    "We show the states with the maximum and minumum value of each of our new column\n",
    "We use the inverted version of our previous state dictionary to look up state names from state abbreviations."
   ]
  },
  {
   "cell_type": "code",
   "execution_count": 81,
   "metadata": {},
   "outputs": [
    {
     "name": "stdout",
     "output_type": "stream",
     "text": [
      "death per hundred thous\n",
      "max: New Jersey NJ\n",
      "min: American Samoa AS\n",
      "count     56.000000\n",
      "mean      42.172304\n",
      "std       37.679472\n",
      "min        0.000000\n",
      "25%       15.303428\n",
      "50%       31.426864\n",
      "75%       56.370422\n",
      "max      179.165563\n",
      "Name: death per hundred thous, dtype: float64\n",
      "\n",
      "\n",
      "tests per thousand\n",
      "max: Alaska AK\n",
      "min: American Samoa AS\n",
      "count     56.000000\n",
      "mean     230.764090\n",
      "std       94.053160\n",
      "min       27.296493\n",
      "25%      174.769925\n",
      "50%      208.276584\n",
      "75%      250.693051\n",
      "max      511.072117\n",
      "Name: tests per thousand, dtype: float64\n",
      "\n",
      "\n",
      "positive per thousand\n",
      "max: Louisiana LA\n",
      "min: American Samoa AS\n",
      "count    56.000000\n",
      "mean     15.294313\n",
      "std       7.464565\n",
      "min       0.000000\n",
      "25%      10.477542\n",
      "50%      15.169143\n",
      "75%      20.513956\n",
      "max      32.154229\n",
      "Name: positive per thousand, dtype: float64\n",
      "\n",
      "\n",
      "positive increase per thousand\n",
      "max: Kansas KS\n",
      "min: Massachusetts MA\n",
      "count    56.000000\n",
      "mean      0.100407\n",
      "std       0.190665\n",
      "min      -1.123853\n",
      "25%       0.048741\n",
      "50%       0.108148\n",
      "75%       0.173589\n",
      "max       0.456121\n",
      "Name: positive increase per thousand, dtype: float64\n",
      "\n",
      "\n",
      "test increase per thousand\n",
      "max: Rhode Island RI\n",
      "min: American Samoa AS\n",
      "count    56.000000\n",
      "mean      1.786666\n",
      "std       1.169706\n",
      "min       0.000000\n",
      "25%       1.030821\n",
      "50%       1.465476\n",
      "75%       2.605029\n",
      "max       5.344670\n",
      "Name: test increase per thousand, dtype: float64\n",
      "\n",
      "\n",
      "death increase per hun thousand\n",
      "max: Mississippi MS\n",
      "min: Massachusetts MA\n",
      "count    56.000000\n",
      "mean      0.243584\n",
      "std       0.248955\n",
      "min      -0.057953\n",
      "25%       0.068995\n",
      "50%       0.183714\n",
      "75%       0.369054\n",
      "max       1.104961\n",
      "Name: death increase per hun thousand, dtype: float64\n",
      "\n",
      "\n",
      "avg 7 day increase\n",
      "max: California CA\n",
      "min: Massachusetts MA\n",
      "count      56.000000\n",
      "mean      698.761905\n",
      "std       975.456701\n",
      "min      -998.833333\n",
      "25%       125.083333\n",
      "50%       447.833333\n",
      "75%       789.333333\n",
      "max      4753.833333\n",
      "Name: avg 7 day increase, dtype: float64\n",
      "\n",
      "\n",
      "avg 7 day increase per thousand\n",
      "max: South Dakota SD\n",
      "min: Massachusetts MA\n",
      "count    56.000000\n",
      "mean      0.122205\n",
      "std       0.085457\n",
      "min      -0.144713\n",
      "25%       0.060575\n",
      "50%       0.125416\n",
      "75%       0.164544\n",
      "max       0.341746\n",
      "Name: avg 7 day increase per thousand, dtype: float64\n",
      "\n",
      "\n"
     ]
    }
   ],
   "source": [
    "\n",
    "inverted_state_dict = dict(map(reversed,us_state_abbrev.items()))\n",
    "\n",
    "\n",
    "filtered=['death per hundred thous', 'tests per thousand',\n",
    "       'positive per thousand', 'positive increase per thousand',\n",
    "       'test increase per thousand', 'death increase per hun thousand',\n",
    "       'avg 7 day increase', 'avg 7 day increase per thousand']\n",
    "for f in filtered:\n",
    "    max_state=today[today[f]==today[f].max()].iloc[0,1]\n",
    "    min_state=today[today[f]==today[f].min()].iloc[0,1]\n",
    "    print(f)\n",
    "    print('max: '+ inverted_state_dict[max_state] + ' '+max_state)\n",
    "    print('min: '+ inverted_state_dict[min_state]+ ' '+ min_state)\n",
    "    print(today[f].describe())\n",
    "    print('\\n')"
   ]
  },
  {
   "cell_type": "markdown",
   "metadata": {},
   "source": [
    "Visualize the descriptive statistics.\n",
    "We make a boxplot for every new column to better visualize the descriptive stats data.\n",
    "We graph them side by side then individually to get a closer look."
   ]
  },
  {
   "cell_type": "code",
   "execution_count": 82,
   "metadata": {},
   "outputs": [
    {
     "data": {
      "text/plain": [
       "<matplotlib.axes._subplots.AxesSubplot at 0x1a1c4efd90>"
      ]
     },
     "execution_count": 82,
     "metadata": {},
     "output_type": "execute_result"
    },
    {
     "data": {
      "image/png": "[encoded data removed]",
      "text/plain": [
       "<Figure size 1080x360 with 1 Axes>"
      ]
     },
     "metadata": {
      "needs_background": "light"
     },
     "output_type": "display_data"
    }
   ],
   "source": [
    "var=[ 'death per hundred thous', 'tests per thousand',\n",
    "       'positive per thousand', 'positive increase per thousand',\n",
    "       'test increase per thousand', 'death increase per hun thousand',\n",
    "       'avg 7 day increase', 'avg 7 day increase per thousand']\n",
    "mpl.rcParams['figure.figsize'] = (15,5)\n",
    "\n",
    "s=today[var].stack()\n",
    "s=s.reset_index()\n",
    "s.columns=['state_group','variable','value']\n",
    "plt.xticks(rotation=45)\n",
    "sns.boxplot(x='variable',y='value',data=s)"
   ]
  },
  {
   "cell_type": "code",
   "execution_count": 83,
   "metadata": {},
   "outputs": [
    {
     "data": {
      "image/png": "[encoded data removed]",
      "text/plain": [
       "<Figure size 360x360 with 1 Axes>"
      ]
     },
     "metadata": {
      "needs_background": "light"
     },
     "output_type": "display_data"
    },
    {
     "data": {
      "image/png": "[encoded data removed]",
      "text/plain": [
       "<Figure size 360x360 with 1 Axes>"
      ]
     },
     "metadata": {
      "needs_background": "light"
     },
     "output_type": "display_data"
    },
    {
     "data": {
      "image/png": "[encoded data removed]",
      "text/plain": [
       "<Figure size 360x360 with 1 Axes>"
      ]
     },
     "metadata": {
      "needs_background": "light"
     },
     "output_type": "display_data"
    },
    {
     "data": {
      "image/png": "[encoded data removed]",
      "text/plain": [
       "<Figure size 360x360 with 1 Axes>"
      ]
     },
     "metadata": {
      "needs_background": "light"
     },
     "output_type": "display_data"
    },
    {
     "data": {
      "image/png": "[encoded data removed]",
      "text/plain": [
       "<Figure size 360x360 with 1 Axes>"
      ]
     },
     "metadata": {
      "needs_background": "light"
     },
     "output_type": "display_data"
    },
    {
     "data": {
      "image/png": "[encoded data removed]",
      "text/plain": [
       "<Figure size 360x360 with 1 Axes>"
      ]
     },
     "metadata": {
      "needs_background": "light"
     },
     "output_type": "display_data"
    },
    {
     "data": {
      "image/png": "[encoded data removed]",
      "text/plain": [
       "<Figure size 360x360 with 1 Axes>"
      ]
     },
     "metadata": {
      "needs_background": "light"
     },
     "output_type": "display_data"
    },
    {
     "data": {
      "image/png": "[encoded data removed]",
      "text/plain": [
       "<Figure size 360x360 with 1 Axes>"
      ]
     },
     "metadata": {
      "needs_background": "light"
     },
     "output_type": "display_data"
    }
   ],
   "source": [
    "counter=1\n",
    "mpl.rcParams['figure.figsize'] = (5,5)\n",
    "fig = plt.figure()\n",
    "fig.subplots_adjust(hspace=0.4, wspace=0.4)\n",
    "for v in var:\n",
    "    sns.boxplot(y=v,data=today)\n",
    "    plt.title(v)\n",
    "    plt.show()"
   ]
  },
  {
   "cell_type": "markdown",
   "metadata": {},
   "source": [
    "We make a bargraph for each of our new columns to show every state's value to view how states compare to each other."
   ]
  },
  {
   "cell_type": "code",
   "execution_count": 84,
   "metadata": {},
   "outputs": [
    {
     "data": {
      "image/png": "[encoded data removed]",
      "text/plain": [
       "<Figure size 1800x216 with 1 Axes>"
      ]
     },
     "metadata": {
      "needs_background": "light"
     },
     "output_type": "display_data"
    },
    {
     "data": {
      "image/png": "[encoded data removed]",
      "text/plain": [
       "<Figure size 1800x216 with 1 Axes>"
      ]
     },
     "metadata": {
      "needs_background": "light"
     },
     "output_type": "display_data"
    },
    {
     "data": {
      "image/png": "[encoded data removed]",
      "text/plain": [
       "<Figure size 1800x216 with 1 Axes>"
      ]
     },
     "metadata": {
      "needs_background": "light"
     },
     "output_type": "display_data"
    },
    {
     "data": {
      "image/png": "[encoded data removed]",
      "text/plain": [
       "<Figure size 1800x216 with 1 Axes>"
      ]
     },
     "metadata": {
      "needs_background": "light"
     },
     "output_type": "display_data"
    },
    {
     "data": {
      "image/png": "[encoded data removed]",
      "text/plain": [
       "<Figure size 1800x216 with 1 Axes>"
      ]
     },
     "metadata": {
      "needs_background": "light"
     },
     "output_type": "display_data"
    },
    {
     "data": {
      "image/png": "[encoded data removed]",
      "text/plain": [
       "<Figure size 1800x216 with 1 Axes>"
      ]
     },
     "metadata": {
      "needs_background": "light"
     },
     "output_type": "display_data"
    },
    {
     "data": {
      "image/png": "[encoded data removed]",
      "text/plain": [
       "<Figure size 1800x216 with 1 Axes>"
      ]
     },
     "metadata": {
      "needs_background": "light"
     },
     "output_type": "display_data"
    },
    {
     "data": {
      "image/png": "[encoded data removed]",
      "text/plain": [
       "<Figure size 1800x216 with 1 Axes>"
      ]
     },
     "metadata": {
      "needs_background": "light"
     },
     "output_type": "display_data"
    }
   ],
   "source": [
    "filt=['state','state_pop', 'death per hundred thous', 'tests per thousand',\n",
    "       'positive per thousand', 'positive increase per thousand',\n",
    "       'test increase per thousand', 'death increase per hun thousand',\n",
    "       'avg 7 day increase', 'avg 7 day increase per thousand']  \n",
    "\n",
    "for v in var:\n",
    "    fig, ax = plt.subplots(figsize=(25,3))\n",
    "    ax=sns.barplot(x='state',y=v,data=today[filt].sort_values(v))\n",
    "    plt.xticks(rotation=0)\n",
    "    plt.title(v)"
   ]
  },
  {
   "cell_type": "markdown",
   "metadata": {},
   "source": [
    "After we find and plot the correlations, we see  a correlation that is surprising.\n",
    "Testing and State Population do not have a strong correlation which is not expected. \n",
    "\n",
    "Test per thousand and state population have a correlation of only 0.089.\n",
    "Test increase per thousand and state population has a correlation of only 0.13.\n",
    "\n",
    "Average 7 day increase and State Population have a strong correlation  which is expected. (0.88)"
   ]
  },
  {
   "cell_type": "code",
   "execution_count": 85,
   "metadata": {},
   "outputs": [
    {
     "data": {
      "text/html": [
       "<div>\n",
       "<style scoped>\n",
       "    .dataframe tbody tr th:only-of-type {\n",
       "        vertical-align: middle;\n",
       "    }\n",
       "\n",
       "    .dataframe tbody tr th {\n",
       "        vertical-align: top;\n",
       "    }\n",
       "\n",
       "    .dataframe thead th {\n",
       "        text-align: right;\n",
       "    }\n",
       "</style>\n",
       "<table border=\"1\" class=\"dataframe\">\n",
       "  <thead>\n",
       "    <tr style=\"text-align: right;\">\n",
       "      <th></th>\n",
       "      <th>state_pop</th>\n",
       "      <th>death per hundred thous</th>\n",
       "      <th>tests per thousand</th>\n",
       "      <th>positive per thousand</th>\n",
       "      <th>positive increase per thousand</th>\n",
       "      <th>test increase per thousand</th>\n",
       "      <th>death increase per hun thousand</th>\n",
       "      <th>avg 7 day increase</th>\n",
       "      <th>avg 7 day increase per thousand</th>\n",
       "    </tr>\n",
       "  </thead>\n",
       "  <tbody>\n",
       "    <tr>\n",
       "      <td>state_pop</td>\n",
       "      <td>1.000000</td>\n",
       "      <td>0.255887</td>\n",
       "      <td>0.089166</td>\n",
       "      <td>0.342909</td>\n",
       "      <td>-0.037087</td>\n",
       "      <td>0.126153</td>\n",
       "      <td>0.229575</td>\n",
       "      <td>0.874990</td>\n",
       "      <td>-0.038068</td>\n",
       "    </tr>\n",
       "    <tr>\n",
       "      <td>death per hundred thous</td>\n",
       "      <td>0.255887</td>\n",
       "      <td>1.000000</td>\n",
       "      <td>0.495961</td>\n",
       "      <td>0.571176</td>\n",
       "      <td>-0.367159</td>\n",
       "      <td>0.486333</td>\n",
       "      <td>0.046125</td>\n",
       "      <td>0.001925</td>\n",
       "      <td>-0.310272</td>\n",
       "    </tr>\n",
       "    <tr>\n",
       "      <td>tests per thousand</td>\n",
       "      <td>0.089166</td>\n",
       "      <td>0.495961</td>\n",
       "      <td>1.000000</td>\n",
       "      <td>0.307320</td>\n",
       "      <td>-0.079678</td>\n",
       "      <td>0.765085</td>\n",
       "      <td>-0.093550</td>\n",
       "      <td>-0.009336</td>\n",
       "      <td>-0.117056</td>\n",
       "    </tr>\n",
       "    <tr>\n",
       "      <td>positive per thousand</td>\n",
       "      <td>0.342909</td>\n",
       "      <td>0.571176</td>\n",
       "      <td>0.307320</td>\n",
       "      <td>1.000000</td>\n",
       "      <td>0.122736</td>\n",
       "      <td>0.216175</td>\n",
       "      <td>0.531859</td>\n",
       "      <td>0.409010</td>\n",
       "      <td>0.369519</td>\n",
       "    </tr>\n",
       "    <tr>\n",
       "      <td>positive increase per thousand</td>\n",
       "      <td>-0.037087</td>\n",
       "      <td>-0.367159</td>\n",
       "      <td>-0.079678</td>\n",
       "      <td>0.122736</td>\n",
       "      <td>1.000000</td>\n",
       "      <td>0.091569</td>\n",
       "      <td>0.303876</td>\n",
       "      <td>0.286353</td>\n",
       "      <td>0.751315</td>\n",
       "    </tr>\n",
       "    <tr>\n",
       "      <td>test increase per thousand</td>\n",
       "      <td>0.126153</td>\n",
       "      <td>0.486333</td>\n",
       "      <td>0.765085</td>\n",
       "      <td>0.216175</td>\n",
       "      <td>0.091569</td>\n",
       "      <td>1.000000</td>\n",
       "      <td>-0.126098</td>\n",
       "      <td>0.016384</td>\n",
       "      <td>0.028749</td>\n",
       "    </tr>\n",
       "    <tr>\n",
       "      <td>death increase per hun thousand</td>\n",
       "      <td>0.229575</td>\n",
       "      <td>0.046125</td>\n",
       "      <td>-0.093550</td>\n",
       "      <td>0.531859</td>\n",
       "      <td>0.303876</td>\n",
       "      <td>-0.126098</td>\n",
       "      <td>1.000000</td>\n",
       "      <td>0.415942</td>\n",
       "      <td>0.382651</td>\n",
       "    </tr>\n",
       "    <tr>\n",
       "      <td>avg 7 day increase</td>\n",
       "      <td>0.874990</td>\n",
       "      <td>0.001925</td>\n",
       "      <td>-0.009336</td>\n",
       "      <td>0.409010</td>\n",
       "      <td>0.286353</td>\n",
       "      <td>0.016384</td>\n",
       "      <td>0.415942</td>\n",
       "      <td>1.000000</td>\n",
       "      <td>0.301050</td>\n",
       "    </tr>\n",
       "    <tr>\n",
       "      <td>avg 7 day increase per thousand</td>\n",
       "      <td>-0.038068</td>\n",
       "      <td>-0.310272</td>\n",
       "      <td>-0.117056</td>\n",
       "      <td>0.369519</td>\n",
       "      <td>0.751315</td>\n",
       "      <td>0.028749</td>\n",
       "      <td>0.382651</td>\n",
       "      <td>0.301050</td>\n",
       "      <td>1.000000</td>\n",
       "    </tr>\n",
       "  </tbody>\n",
       "</table>\n",
       "</div>"
      ],
      "text/plain": [
       "                                 state_pop  death per hundred thous  \\\n",
       "state_pop                         1.000000                 0.255887   \n",
       "death per hundred thous           0.255887                 1.000000   \n",
       "tests per thousand                0.089166                 0.495961   \n",
       "positive per thousand             0.342909                 0.571176   \n",
       "positive increase per thousand   -0.037087                -0.367159   \n",
       "test increase per thousand        0.126153                 0.486333   \n",
       "death increase per hun thousand   0.229575                 0.046125   \n",
       "avg 7 day increase                0.874990                 0.001925   \n",
       "avg 7 day increase per thousand  -0.038068                -0.310272   \n",
       "\n",
       "                                 tests per thousand  positive per thousand  \\\n",
       "state_pop                                  0.089166               0.342909   \n",
       "death per hundred thous                    0.495961               0.571176   \n",
       "tests per thousand                         1.000000               0.307320   \n",
       "positive per thousand                      0.307320               1.000000   \n",
       "positive increase per thousand            -0.079678               0.122736   \n",
       "test increase per thousand                 0.765085               0.216175   \n",
       "death increase per hun thousand           -0.093550               0.531859   \n",
       "avg 7 day increase                        -0.009336               0.409010   \n",
       "avg 7 day increase per thousand           -0.117056               0.369519   \n",
       "\n",
       "                                 positive increase per thousand  \\\n",
       "state_pop                                             -0.037087   \n",
       "death per hundred thous                               -0.367159   \n",
       "tests per thousand                                    -0.079678   \n",
       "positive per thousand                                  0.122736   \n",
       "positive increase per thousand                         1.000000   \n",
       "test increase per thousand                             0.091569   \n",
       "death increase per hun thousand                        0.303876   \n",
       "avg 7 day increase                                     0.286353   \n",
       "avg 7 day increase per thousand                        0.751315   \n",
       "\n",
       "                                 test increase per thousand  \\\n",
       "state_pop                                          0.126153   \n",
       "death per hundred thous                            0.486333   \n",
       "tests per thousand                                 0.765085   \n",
       "positive per thousand                              0.216175   \n",
       "positive increase per thousand                     0.091569   \n",
       "test increase per thousand                         1.000000   \n",
       "death increase per hun thousand                   -0.126098   \n",
       "avg 7 day increase                                 0.016384   \n",
       "avg 7 day increase per thousand                    0.028749   \n",
       "\n",
       "                                 death increase per hun thousand  \\\n",
       "state_pop                                               0.229575   \n",
       "death per hundred thous                                 0.046125   \n",
       "tests per thousand                                     -0.093550   \n",
       "positive per thousand                                   0.531859   \n",
       "positive increase per thousand                          0.303876   \n",
       "test increase per thousand                             -0.126098   \n",
       "death increase per hun thousand                         1.000000   \n",
       "avg 7 day increase                                      0.415942   \n",
       "avg 7 day increase per thousand                         0.382651   \n",
       "\n",
       "                                 avg 7 day increase  \\\n",
       "state_pop                                  0.874990   \n",
       "death per hundred thous                    0.001925   \n",
       "tests per thousand                        -0.009336   \n",
       "positive per thousand                      0.409010   \n",
       "positive increase per thousand             0.286353   \n",
       "test increase per thousand                 0.016384   \n",
       "death increase per hun thousand            0.415942   \n",
       "avg 7 day increase                         1.000000   \n",
       "avg 7 day increase per thousand            0.301050   \n",
       "\n",
       "                                 avg 7 day increase per thousand  \n",
       "state_pop                                              -0.038068  \n",
       "death per hundred thous                                -0.310272  \n",
       "tests per thousand                                     -0.117056  \n",
       "positive per thousand                                   0.369519  \n",
       "positive increase per thousand                          0.751315  \n",
       "test increase per thousand                              0.028749  \n",
       "death increase per hun thousand                         0.382651  \n",
       "avg 7 day increase                                      0.301050  \n",
       "avg 7 day increase per thousand                         1.000000  "
      ]
     },
     "execution_count": 85,
     "metadata": {},
     "output_type": "execute_result"
    }
   ],
   "source": [
    "fi=['state_pop', 'death per hundred thous', 'tests per thousand',\n",
    "       'positive per thousand', 'positive increase per thousand',\n",
    "       'test increase per thousand', 'death increase per hun thousand',\n",
    "       'avg 7 day increase', 'avg 7 day increase per thousand']  \n",
    "\n",
    "today[fi].corr()"
   ]
  },
  {
   "cell_type": "code",
   "execution_count": 86,
   "metadata": {},
   "outputs": [
    {
     "data": {
      "text/plain": [
       "Text(0.5, 1, 'Rolling Standard Deviation Heatmap of Correlations')"
      ]
     },
     "execution_count": 86,
     "metadata": {},
     "output_type": "execute_result"
    },
    {
     "data": {
      "image/png": "[encoded data removed]",
      "text/plain": [
       "<Figure size 1080x720 with 2 Axes>"
      ]
     },
     "metadata": {
      "needs_background": "light"
     },
     "output_type": "display_data"
    }
   ],
   "source": [
    "fig, ax=plt.subplots(figsize=(15,10))\n",
    "ax=sns.heatmap(today[fi].corr(),annot=True)\n",
    "bottom, top=ax.get_ylim()\n",
    "ax.set_ylim(bottom+0.5,top-0.5)\n",
    "plt.title('Rolling Standard Deviation Heatmap of Correlations')"
   ]
  },
  {
   "cell_type": "code",
   "execution_count": 87,
   "metadata": {},
   "outputs": [],
   "source": [
    "# More Visualizations"
   ]
  },
  {
   "cell_type": "markdown",
   "metadata": {},
   "source": [
    "\n"
   ]
  },
  {
   "cell_type": "code",
   "execution_count": 88,
   "metadata": {},
   "outputs": [],
   "source": [
    "#We graph the past week's positive daily increase per each state"
   ]
  },
  {
   "cell_type": "code",
   "execution_count": 89,
   "metadata": {},
   "outputs": [],
   "source": [
    "#Group the data by state, then graph the positive increase per day for each state"
   ]
  },
  {
   "cell_type": "code",
   "execution_count": 90,
   "metadata": {},
   "outputs": [],
   "source": [
    "#past_week_groups = past_sev_days.groupby('state')"
   ]
  },
  {
   "cell_type": "code",
   "execution_count": 91,
   "metadata": {},
   "outputs": [],
   "source": [
    "#past_week_groups.groups.keys()"
   ]
  },
  {
   "cell_type": "code",
   "execution_count": 92,
   "metadata": {},
   "outputs": [],
   "source": [
    "#mpl.rcParams['figure.figsize'] = (5,5)\n",
    "#for g in past_week_groups.groups.keys():\n",
    "    #plt.plot(past_week_groups.get_group(g)['positiveIncrease'])\n",
    "    #plt.title(g)\n",
    "    #plt.show()"
   ]
  },
  {
   "cell_type": "code",
   "execution_count": 93,
   "metadata": {},
   "outputs": [],
   "source": [
    "#graph the daily increase in testing for the past week per state"
   ]
  },
  {
   "cell_type": "code",
   "execution_count": 94,
   "metadata": {},
   "outputs": [],
   "source": [
    "#mpl.rcParams['figure.figsize'] = (5,5)\n",
    "#for g in past_week_groups.groups.keys():\n",
    "    #plt.plot(past_week_groups.get_group(g)['totalTestResultsIncrease'])\n",
    "    #plt.title(g)\n",
    "    #plt.show()"
   ]
  },
  {
   "cell_type": "code",
   "execution_count": null,
   "metadata": {},
   "outputs": [],
   "source": []
  }
 ],
 "metadata": {
  "kernelspec": {
   "display_name": "Python 3",
   "language": "python",
   "name": "python3"
  },
  "language_info": {
   "codemirror_mode": {
    "name": "ipython",
    "version": 3
   },
   "file_extension": ".py",
   "mimetype": "text/x-python",
   "name": "python",
   "nbconvert_exporter": "python",
   "pygments_lexer": "ipython3",
   "version": "3.7.4"
  }
 },
 "nbformat": 4,
 "nbformat_minor": 2
}
