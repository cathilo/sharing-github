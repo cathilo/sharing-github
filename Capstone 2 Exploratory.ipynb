{
 "cells": [
  {
   "cell_type": "code",
   "execution_count": 1,
   "metadata": {},
   "outputs": [],
   "source": [
    "import pandas as pd\n",
    "import numpy as np\n",
    "import matplotlib.pyplot as plt\n",
    "import seaborn as sns\n",
    "import datetime as dt\n",
    "import matplotlib as mpl\n"
   ]
  },
  {
   "cell_type": "markdown",
   "metadata": {},
   "source": [
    "# Data Cleansing\n",
    "\n"
   ]
  },
  {
   "cell_type": "code",
   "execution_count": 2,
   "metadata": {},
   "outputs": [],
   "source": [
    "df= pd.read_csv('https://api.covidtracking.com/v1/states/daily.csv',parse_dates=['date'])"
   ]
  },
  {
   "cell_type": "markdown",
   "metadata": {},
   "source": [
    "upload census data that we will use with our covid data to determine values per thousand and hundred-thousand of each state's population"
   ]
  },
  {
   "cell_type": "code",
   "execution_count": 3,
   "metadata": {},
   "outputs": [],
   "source": [
    "c=pd.read_csv('census2018.csv')"
   ]
  },
  {
   "cell_type": "code",
   "execution_count": 4,
   "metadata": {},
   "outputs": [
    {
     "data": {
      "text/plain": [
       "Index(['Geographic Area Name', 'Estimate'], dtype='object')"
      ]
     },
     "execution_count": 4,
     "metadata": {},
     "output_type": "execute_result"
    }
   ],
   "source": [
    "c.columns"
   ]
  },
  {
   "cell_type": "code",
   "execution_count": 5,
   "metadata": {},
   "outputs": [],
   "source": [
    "c.columns= ['State','Population']"
   ]
  },
  {
   "cell_type": "code",
   "execution_count": 6,
   "metadata": {
    "scrolled": true
   },
   "outputs": [
    {
     "data": {
      "text/plain": [
       "0     Colorado\n",
       "1      Indiana\n",
       "2     Kentucky\n",
       "3    Louisiana\n",
       "4     Illinois\n",
       "Name: State, dtype: object"
      ]
     },
     "execution_count": 6,
     "metadata": {},
     "output_type": "execute_result"
    }
   ],
   "source": [
    "c['State'].head()"
   ]
  },
  {
   "cell_type": "markdown",
   "metadata": {},
   "source": [
    "below is a dictionary where every state has a value of its abbreviation."
   ]
  },
  {
   "cell_type": "code",
   "execution_count": 7,
   "metadata": {},
   "outputs": [],
   "source": [
    "us_state_abbrev = {\n",
    "    'Alabama': 'AL',\n",
    "    'Alaska': 'AK',\n",
    "    'American Samoa': 'AS',\n",
    "    'Arizona': 'AZ',\n",
    "    'Arkansas': 'AR',\n",
    "    'California': 'CA',\n",
    "    'Colorado': 'CO',\n",
    "    'Connecticut': 'CT',\n",
    "    'Delaware': 'DE',\n",
    "    'District of Columbia': 'DC',\n",
    "    'Florida': 'FL',\n",
    "    'Georgia': 'GA',\n",
    "    'Guam': 'GU',\n",
    "    'Hawaii': 'HI',\n",
    "    'Idaho': 'ID',\n",
    "    'Illinois': 'IL',\n",
    "    'Indiana': 'IN',\n",
    "    'Iowa': 'IA',\n",
    "    'Kansas': 'KS',\n",
    "    'Kentucky': 'KY',\n",
    "    'Louisiana': 'LA',\n",
    "    'Maine': 'ME',\n",
    "    'Maryland': 'MD',\n",
    "    'Massachusetts': 'MA',\n",
    "    'Michigan': 'MI',\n",
    "    'Minnesota': 'MN',\n",
    "    'Mississippi': 'MS',\n",
    "    'Missouri': 'MO',\n",
    "    'Montana': 'MT',\n",
    "    'Nebraska': 'NE',\n",
    "    'Nevada': 'NV',\n",
    "    'New Hampshire': 'NH',\n",
    "    'New Jersey': 'NJ',\n",
    "    'New Mexico': 'NM',\n",
    "    'New York': 'NY',\n",
    "    'North Carolina': 'NC',\n",
    "    'North Dakota': 'ND',\n",
    "    'Northern Mariana Islands':'MP',\n",
    "    'Ohio': 'OH',\n",
    "    'Oklahoma': 'OK',\n",
    "    'Oregon': 'OR',\n",
    "    'Pennsylvania': 'PA',\n",
    "    'Puerto Rico': 'PR',\n",
    "    'Rhode Island': 'RI',\n",
    "    'South Carolina': 'SC',\n",
    "    'South Dakota': 'SD',\n",
    "    'Tennessee': 'TN',\n",
    "    'Texas': 'TX',\n",
    "    'Utah': 'UT',\n",
    "    'Vermont': 'VT',\n",
    "    'Virgin Islands': 'VI',\n",
    "    'Virginia': 'VA',\n",
    "    'Washington': 'WA',\n",
    "    'West Virginia': 'WV',\n",
    "    'Wisconsin': 'WI',\n",
    "    'Wyoming': 'WY'\n",
    "}"
   ]
  },
  {
   "cell_type": "markdown",
   "metadata": {},
   "source": [
    "for every state in our census data, add its corresponding abbreviation, from the us_abbrev dictionary, to a list that will later be joined to the census data dataframe"
   ]
  },
  {
   "cell_type": "code",
   "execution_count": 8,
   "metadata": {},
   "outputs": [],
   "source": [
    "state_list=[]\n",
    "for s in c['State']:\n",
    "    if s != 'United States':\n",
    "        state_list.append(us_state_abbrev[s])"
   ]
  },
  {
   "cell_type": "code",
   "execution_count": 9,
   "metadata": {},
   "outputs": [
    {
     "data": {
      "text/plain": [
       "['CO',\n",
       " 'IN',\n",
       " 'KY',\n",
       " 'LA',\n",
       " 'IL',\n",
       " 'IA',\n",
       " 'NH',\n",
       " 'AR',\n",
       " 'DE',\n",
       " 'MN',\n",
       " 'MT',\n",
       " 'ME',\n",
       " 'NC',\n",
       " 'GA',\n",
       " 'AK',\n",
       " 'AL',\n",
       " 'VT',\n",
       " 'NV',\n",
       " 'WV',\n",
       " 'OK',\n",
       " 'WI',\n",
       " 'PR',\n",
       " 'VA',\n",
       " 'ND',\n",
       " 'SC',\n",
       " 'OR',\n",
       " 'WY',\n",
       " 'CA',\n",
       " 'MS',\n",
       " 'CT',\n",
       " 'TX',\n",
       " 'MD',\n",
       " 'FL',\n",
       " 'MA',\n",
       " 'DC',\n",
       " 'UT',\n",
       " 'NY',\n",
       " 'NJ',\n",
       " 'OH',\n",
       " 'MO',\n",
       " 'PA',\n",
       " 'MI',\n",
       " 'NE',\n",
       " 'ID',\n",
       " 'NM',\n",
       " 'HI',\n",
       " 'SD',\n",
       " 'WA',\n",
       " 'RI',\n",
       " 'AZ',\n",
       " 'TN',\n",
       " 'KS']"
      ]
     },
     "execution_count": 9,
     "metadata": {},
     "output_type": "execute_result"
    }
   ],
   "source": [
    "state_list"
   ]
  },
  {
   "cell_type": "code",
   "execution_count": 10,
   "metadata": {},
   "outputs": [],
   "source": [
    "\n",
    "state_list=np.array(state_list)"
   ]
  },
  {
   "cell_type": "markdown",
   "metadata": {},
   "source": [
    "Add USA to end of list as it is not provided "
   ]
  },
  {
   "cell_type": "code",
   "execution_count": 11,
   "metadata": {},
   "outputs": [],
   "source": [
    "state_list=np.append(state_list,'USA')"
   ]
  },
  {
   "cell_type": "code",
   "execution_count": 12,
   "metadata": {},
   "outputs": [
    {
     "data": {
      "text/plain": [
       "array(['CO', 'IN', 'KY', 'LA', 'IL', 'IA', 'NH', 'AR', 'DE', 'MN', 'MT',\n",
       "       'ME', 'NC', 'GA', 'AK', 'AL', 'VT', 'NV', 'WV', 'OK', 'WI', 'PR',\n",
       "       'VA', 'ND', 'SC', 'OR', 'WY', 'CA', 'MS', 'CT', 'TX', 'MD', 'FL',\n",
       "       'MA', 'DC', 'UT', 'NY', 'NJ', 'OH', 'MO', 'PA', 'MI', 'NE', 'ID',\n",
       "       'NM', 'HI', 'SD', 'WA', 'RI', 'AZ', 'TN', 'KS', 'USA'], dtype='<U3')"
      ]
     },
     "execution_count": 12,
     "metadata": {},
     "output_type": "execute_result"
    }
   ],
   "source": [
    "state_list"
   ]
  },
  {
   "cell_type": "code",
   "execution_count": 13,
   "metadata": {},
   "outputs": [],
   "source": [
    "c['state_code']=state_list"
   ]
  },
  {
   "cell_type": "markdown",
   "metadata": {},
   "source": [
    "view the resulting c dataframe"
   ]
  },
  {
   "cell_type": "code",
   "execution_count": 14,
   "metadata": {},
   "outputs": [
    {
     "data": {
      "text/html": [
       "<div>\n",
       "<style scoped>\n",
       "    .dataframe tbody tr th:only-of-type {\n",
       "        vertical-align: middle;\n",
       "    }\n",
       "\n",
       "    .dataframe tbody tr th {\n",
       "        vertical-align: top;\n",
       "    }\n",
       "\n",
       "    .dataframe thead th {\n",
       "        text-align: right;\n",
       "    }\n",
       "</style>\n",
       "<table border=\"1\" class=\"dataframe\">\n",
       "  <thead>\n",
       "    <tr style=\"text-align: right;\">\n",
       "      <th></th>\n",
       "      <th>State</th>\n",
       "      <th>Population</th>\n",
       "      <th>state_code</th>\n",
       "    </tr>\n",
       "  </thead>\n",
       "  <tbody>\n",
       "    <tr>\n",
       "      <td>0</td>\n",
       "      <td>Colorado</td>\n",
       "      <td>5695564</td>\n",
       "      <td>CO</td>\n",
       "    </tr>\n",
       "    <tr>\n",
       "      <td>1</td>\n",
       "      <td>Indiana</td>\n",
       "      <td>6691878</td>\n",
       "      <td>IN</td>\n",
       "    </tr>\n",
       "    <tr>\n",
       "      <td>2</td>\n",
       "      <td>Kentucky</td>\n",
       "      <td>4468402</td>\n",
       "      <td>KY</td>\n",
       "    </tr>\n",
       "    <tr>\n",
       "      <td>3</td>\n",
       "      <td>Louisiana</td>\n",
       "      <td>4659978</td>\n",
       "      <td>LA</td>\n",
       "    </tr>\n",
       "    <tr>\n",
       "      <td>4</td>\n",
       "      <td>Illinois</td>\n",
       "      <td>12741080</td>\n",
       "      <td>IL</td>\n",
       "    </tr>\n",
       "  </tbody>\n",
       "</table>\n",
       "</div>"
      ],
      "text/plain": [
       "       State  Population state_code\n",
       "0   Colorado     5695564         CO\n",
       "1    Indiana     6691878         IN\n",
       "2   Kentucky     4468402         KY\n",
       "3  Louisiana     4659978         LA\n",
       "4   Illinois    12741080         IL"
      ]
     },
     "execution_count": 14,
     "metadata": {},
     "output_type": "execute_result"
    }
   ],
   "source": [
    "c.head()"
   ]
  },
  {
   "cell_type": "code",
   "execution_count": 15,
   "metadata": {},
   "outputs": [
    {
     "data": {
      "text/html": [
       "<div>\n",
       "<style scoped>\n",
       "    .dataframe tbody tr th:only-of-type {\n",
       "        vertical-align: middle;\n",
       "    }\n",
       "\n",
       "    .dataframe tbody tr th {\n",
       "        vertical-align: top;\n",
       "    }\n",
       "\n",
       "    .dataframe thead th {\n",
       "        text-align: right;\n",
       "    }\n",
       "</style>\n",
       "<table border=\"1\" class=\"dataframe\">\n",
       "  <thead>\n",
       "    <tr style=\"text-align: right;\">\n",
       "      <th></th>\n",
       "      <th>State</th>\n",
       "      <th>Population</th>\n",
       "    </tr>\n",
       "    <tr>\n",
       "      <th>state_code</th>\n",
       "      <th></th>\n",
       "      <th></th>\n",
       "    </tr>\n",
       "  </thead>\n",
       "  <tbody>\n",
       "    <tr>\n",
       "      <td>CO</td>\n",
       "      <td>Colorado</td>\n",
       "      <td>5695564</td>\n",
       "    </tr>\n",
       "    <tr>\n",
       "      <td>IN</td>\n",
       "      <td>Indiana</td>\n",
       "      <td>6691878</td>\n",
       "    </tr>\n",
       "    <tr>\n",
       "      <td>KY</td>\n",
       "      <td>Kentucky</td>\n",
       "      <td>4468402</td>\n",
       "    </tr>\n",
       "    <tr>\n",
       "      <td>LA</td>\n",
       "      <td>Louisiana</td>\n",
       "      <td>4659978</td>\n",
       "    </tr>\n",
       "    <tr>\n",
       "      <td>IL</td>\n",
       "      <td>Illinois</td>\n",
       "      <td>12741080</td>\n",
       "    </tr>\n",
       "    <tr>\n",
       "      <td>IA</td>\n",
       "      <td>Iowa</td>\n",
       "      <td>3156145</td>\n",
       "    </tr>\n",
       "    <tr>\n",
       "      <td>NH</td>\n",
       "      <td>New Hampshire</td>\n",
       "      <td>1356458</td>\n",
       "    </tr>\n",
       "    <tr>\n",
       "      <td>AR</td>\n",
       "      <td>Arkansas</td>\n",
       "      <td>3013825</td>\n",
       "    </tr>\n",
       "    <tr>\n",
       "      <td>DE</td>\n",
       "      <td>Delaware</td>\n",
       "      <td>967171</td>\n",
       "    </tr>\n",
       "    <tr>\n",
       "      <td>MN</td>\n",
       "      <td>Minnesota</td>\n",
       "      <td>5611179</td>\n",
       "    </tr>\n",
       "    <tr>\n",
       "      <td>MT</td>\n",
       "      <td>Montana</td>\n",
       "      <td>1062305</td>\n",
       "    </tr>\n",
       "    <tr>\n",
       "      <td>ME</td>\n",
       "      <td>Maine</td>\n",
       "      <td>1338404</td>\n",
       "    </tr>\n",
       "    <tr>\n",
       "      <td>NC</td>\n",
       "      <td>North Carolina</td>\n",
       "      <td>10383620</td>\n",
       "    </tr>\n",
       "    <tr>\n",
       "      <td>GA</td>\n",
       "      <td>Georgia</td>\n",
       "      <td>10519475</td>\n",
       "    </tr>\n",
       "    <tr>\n",
       "      <td>AK</td>\n",
       "      <td>Alaska</td>\n",
       "      <td>737438</td>\n",
       "    </tr>\n",
       "    <tr>\n",
       "      <td>AL</td>\n",
       "      <td>Alabama</td>\n",
       "      <td>4887871</td>\n",
       "    </tr>\n",
       "    <tr>\n",
       "      <td>VT</td>\n",
       "      <td>Vermont</td>\n",
       "      <td>626299</td>\n",
       "    </tr>\n",
       "    <tr>\n",
       "      <td>NV</td>\n",
       "      <td>Nevada</td>\n",
       "      <td>3034392</td>\n",
       "    </tr>\n",
       "    <tr>\n",
       "      <td>WV</td>\n",
       "      <td>West Virginia</td>\n",
       "      <td>1805832</td>\n",
       "    </tr>\n",
       "    <tr>\n",
       "      <td>OK</td>\n",
       "      <td>Oklahoma</td>\n",
       "      <td>3943079</td>\n",
       "    </tr>\n",
       "    <tr>\n",
       "      <td>WI</td>\n",
       "      <td>Wisconsin</td>\n",
       "      <td>5813568</td>\n",
       "    </tr>\n",
       "    <tr>\n",
       "      <td>PR</td>\n",
       "      <td>Puerto Rico</td>\n",
       "      <td>3195153</td>\n",
       "    </tr>\n",
       "    <tr>\n",
       "      <td>VA</td>\n",
       "      <td>Virginia</td>\n",
       "      <td>8517685</td>\n",
       "    </tr>\n",
       "    <tr>\n",
       "      <td>ND</td>\n",
       "      <td>North Dakota</td>\n",
       "      <td>760077</td>\n",
       "    </tr>\n",
       "    <tr>\n",
       "      <td>SC</td>\n",
       "      <td>South Carolina</td>\n",
       "      <td>5084127</td>\n",
       "    </tr>\n",
       "    <tr>\n",
       "      <td>OR</td>\n",
       "      <td>Oregon</td>\n",
       "      <td>4190713</td>\n",
       "    </tr>\n",
       "    <tr>\n",
       "      <td>WY</td>\n",
       "      <td>Wyoming</td>\n",
       "      <td>577737</td>\n",
       "    </tr>\n",
       "    <tr>\n",
       "      <td>CA</td>\n",
       "      <td>California</td>\n",
       "      <td>39557045</td>\n",
       "    </tr>\n",
       "    <tr>\n",
       "      <td>MS</td>\n",
       "      <td>Mississippi</td>\n",
       "      <td>2986530</td>\n",
       "    </tr>\n",
       "    <tr>\n",
       "      <td>CT</td>\n",
       "      <td>Connecticut</td>\n",
       "      <td>3572665</td>\n",
       "    </tr>\n",
       "    <tr>\n",
       "      <td>TX</td>\n",
       "      <td>Texas</td>\n",
       "      <td>28701845</td>\n",
       "    </tr>\n",
       "    <tr>\n",
       "      <td>MD</td>\n",
       "      <td>Maryland</td>\n",
       "      <td>6042718</td>\n",
       "    </tr>\n",
       "    <tr>\n",
       "      <td>FL</td>\n",
       "      <td>Florida</td>\n",
       "      <td>21299325</td>\n",
       "    </tr>\n",
       "    <tr>\n",
       "      <td>MA</td>\n",
       "      <td>Massachusetts</td>\n",
       "      <td>6902149</td>\n",
       "    </tr>\n",
       "    <tr>\n",
       "      <td>DC</td>\n",
       "      <td>District of Columbia</td>\n",
       "      <td>702455</td>\n",
       "    </tr>\n",
       "    <tr>\n",
       "      <td>UT</td>\n",
       "      <td>Utah</td>\n",
       "      <td>3161105</td>\n",
       "    </tr>\n",
       "    <tr>\n",
       "      <td>NY</td>\n",
       "      <td>New York</td>\n",
       "      <td>19542209</td>\n",
       "    </tr>\n",
       "    <tr>\n",
       "      <td>NJ</td>\n",
       "      <td>New Jersey</td>\n",
       "      <td>8908520</td>\n",
       "    </tr>\n",
       "    <tr>\n",
       "      <td>OH</td>\n",
       "      <td>Ohio</td>\n",
       "      <td>11689442</td>\n",
       "    </tr>\n",
       "    <tr>\n",
       "      <td>MO</td>\n",
       "      <td>Missouri</td>\n",
       "      <td>6126452</td>\n",
       "    </tr>\n",
       "    <tr>\n",
       "      <td>PA</td>\n",
       "      <td>Pennsylvania</td>\n",
       "      <td>12807060</td>\n",
       "    </tr>\n",
       "    <tr>\n",
       "      <td>MI</td>\n",
       "      <td>Michigan</td>\n",
       "      <td>9995915</td>\n",
       "    </tr>\n",
       "    <tr>\n",
       "      <td>NE</td>\n",
       "      <td>Nebraska</td>\n",
       "      <td>1929268</td>\n",
       "    </tr>\n",
       "    <tr>\n",
       "      <td>ID</td>\n",
       "      <td>Idaho</td>\n",
       "      <td>1754208</td>\n",
       "    </tr>\n",
       "    <tr>\n",
       "      <td>NM</td>\n",
       "      <td>New Mexico</td>\n",
       "      <td>2095428</td>\n",
       "    </tr>\n",
       "    <tr>\n",
       "      <td>HI</td>\n",
       "      <td>Hawaii</td>\n",
       "      <td>1420491</td>\n",
       "    </tr>\n",
       "    <tr>\n",
       "      <td>SD</td>\n",
       "      <td>South Dakota</td>\n",
       "      <td>882235</td>\n",
       "    </tr>\n",
       "    <tr>\n",
       "      <td>WA</td>\n",
       "      <td>Washington</td>\n",
       "      <td>7535591</td>\n",
       "    </tr>\n",
       "    <tr>\n",
       "      <td>RI</td>\n",
       "      <td>Rhode Island</td>\n",
       "      <td>1057315</td>\n",
       "    </tr>\n",
       "    <tr>\n",
       "      <td>AZ</td>\n",
       "      <td>Arizona</td>\n",
       "      <td>7171646</td>\n",
       "    </tr>\n",
       "    <tr>\n",
       "      <td>TN</td>\n",
       "      <td>Tennessee</td>\n",
       "      <td>6770010</td>\n",
       "    </tr>\n",
       "    <tr>\n",
       "      <td>KS</td>\n",
       "      <td>Kansas</td>\n",
       "      <td>2911510</td>\n",
       "    </tr>\n",
       "    <tr>\n",
       "      <td>USA</td>\n",
       "      <td>United States</td>\n",
       "      <td>327167439</td>\n",
       "    </tr>\n",
       "  </tbody>\n",
       "</table>\n",
       "</div>"
      ],
      "text/plain": [
       "                           State  Population\n",
       "state_code                                  \n",
       "CO                      Colorado     5695564\n",
       "IN                       Indiana     6691878\n",
       "KY                      Kentucky     4468402\n",
       "LA                     Louisiana     4659978\n",
       "IL                      Illinois    12741080\n",
       "IA                          Iowa     3156145\n",
       "NH                 New Hampshire     1356458\n",
       "AR                      Arkansas     3013825\n",
       "DE                      Delaware      967171\n",
       "MN                     Minnesota     5611179\n",
       "MT                       Montana     1062305\n",
       "ME                         Maine     1338404\n",
       "NC                North Carolina    10383620\n",
       "GA                       Georgia    10519475\n",
       "AK                        Alaska      737438\n",
       "AL                       Alabama     4887871\n",
       "VT                       Vermont      626299\n",
       "NV                        Nevada     3034392\n",
       "WV                 West Virginia     1805832\n",
       "OK                      Oklahoma     3943079\n",
       "WI                     Wisconsin     5813568\n",
       "PR                   Puerto Rico     3195153\n",
       "VA                      Virginia     8517685\n",
       "ND                  North Dakota      760077\n",
       "SC                South Carolina     5084127\n",
       "OR                        Oregon     4190713\n",
       "WY                       Wyoming      577737\n",
       "CA                    California    39557045\n",
       "MS                   Mississippi     2986530\n",
       "CT                   Connecticut     3572665\n",
       "TX                         Texas    28701845\n",
       "MD                      Maryland     6042718\n",
       "FL                       Florida    21299325\n",
       "MA                 Massachusetts     6902149\n",
       "DC          District of Columbia      702455\n",
       "UT                          Utah     3161105\n",
       "NY                      New York    19542209\n",
       "NJ                    New Jersey     8908520\n",
       "OH                          Ohio    11689442\n",
       "MO                      Missouri     6126452\n",
       "PA                  Pennsylvania    12807060\n",
       "MI                      Michigan     9995915\n",
       "NE                      Nebraska     1929268\n",
       "ID                         Idaho     1754208\n",
       "NM                    New Mexico     2095428\n",
       "HI                        Hawaii     1420491\n",
       "SD                  South Dakota      882235\n",
       "WA                    Washington     7535591\n",
       "RI                  Rhode Island     1057315\n",
       "AZ                       Arizona     7171646\n",
       "TN                     Tennessee     6770010\n",
       "KS                        Kansas     2911510\n",
       "USA                United States   327167439"
      ]
     },
     "execution_count": 15,
     "metadata": {},
     "output_type": "execute_result"
    }
   ],
   "source": [
    "c.set_index('state_code')"
   ]
  },
  {
   "cell_type": "code",
   "execution_count": 16,
   "metadata": {},
   "outputs": [
    {
     "data": {
      "text/html": [
       "<div>\n",
       "<style scoped>\n",
       "    .dataframe tbody tr th:only-of-type {\n",
       "        vertical-align: middle;\n",
       "    }\n",
       "\n",
       "    .dataframe tbody tr th {\n",
       "        vertical-align: top;\n",
       "    }\n",
       "\n",
       "    .dataframe thead th {\n",
       "        text-align: right;\n",
       "    }\n",
       "</style>\n",
       "<table border=\"1\" class=\"dataframe\">\n",
       "  <thead>\n",
       "    <tr style=\"text-align: right;\">\n",
       "      <th></th>\n",
       "      <th>State</th>\n",
       "      <th>Population</th>\n",
       "    </tr>\n",
       "    <tr>\n",
       "      <th>state_code</th>\n",
       "      <th></th>\n",
       "      <th></th>\n",
       "    </tr>\n",
       "  </thead>\n",
       "  <tbody>\n",
       "    <tr>\n",
       "      <td>CO</td>\n",
       "      <td>Colorado</td>\n",
       "      <td>5695564</td>\n",
       "    </tr>\n",
       "    <tr>\n",
       "      <td>IN</td>\n",
       "      <td>Indiana</td>\n",
       "      <td>6691878</td>\n",
       "    </tr>\n",
       "    <tr>\n",
       "      <td>KY</td>\n",
       "      <td>Kentucky</td>\n",
       "      <td>4468402</td>\n",
       "    </tr>\n",
       "    <tr>\n",
       "      <td>LA</td>\n",
       "      <td>Louisiana</td>\n",
       "      <td>4659978</td>\n",
       "    </tr>\n",
       "    <tr>\n",
       "      <td>IL</td>\n",
       "      <td>Illinois</td>\n",
       "      <td>12741080</td>\n",
       "    </tr>\n",
       "    <tr>\n",
       "      <td>IA</td>\n",
       "      <td>Iowa</td>\n",
       "      <td>3156145</td>\n",
       "    </tr>\n",
       "    <tr>\n",
       "      <td>NH</td>\n",
       "      <td>New Hampshire</td>\n",
       "      <td>1356458</td>\n",
       "    </tr>\n",
       "    <tr>\n",
       "      <td>AR</td>\n",
       "      <td>Arkansas</td>\n",
       "      <td>3013825</td>\n",
       "    </tr>\n",
       "    <tr>\n",
       "      <td>DE</td>\n",
       "      <td>Delaware</td>\n",
       "      <td>967171</td>\n",
       "    </tr>\n",
       "    <tr>\n",
       "      <td>MN</td>\n",
       "      <td>Minnesota</td>\n",
       "      <td>5611179</td>\n",
       "    </tr>\n",
       "    <tr>\n",
       "      <td>MT</td>\n",
       "      <td>Montana</td>\n",
       "      <td>1062305</td>\n",
       "    </tr>\n",
       "    <tr>\n",
       "      <td>ME</td>\n",
       "      <td>Maine</td>\n",
       "      <td>1338404</td>\n",
       "    </tr>\n",
       "    <tr>\n",
       "      <td>NC</td>\n",
       "      <td>North Carolina</td>\n",
       "      <td>10383620</td>\n",
       "    </tr>\n",
       "    <tr>\n",
       "      <td>GA</td>\n",
       "      <td>Georgia</td>\n",
       "      <td>10519475</td>\n",
       "    </tr>\n",
       "    <tr>\n",
       "      <td>AK</td>\n",
       "      <td>Alaska</td>\n",
       "      <td>737438</td>\n",
       "    </tr>\n",
       "    <tr>\n",
       "      <td>AL</td>\n",
       "      <td>Alabama</td>\n",
       "      <td>4887871</td>\n",
       "    </tr>\n",
       "    <tr>\n",
       "      <td>VT</td>\n",
       "      <td>Vermont</td>\n",
       "      <td>626299</td>\n",
       "    </tr>\n",
       "    <tr>\n",
       "      <td>NV</td>\n",
       "      <td>Nevada</td>\n",
       "      <td>3034392</td>\n",
       "    </tr>\n",
       "    <tr>\n",
       "      <td>WV</td>\n",
       "      <td>West Virginia</td>\n",
       "      <td>1805832</td>\n",
       "    </tr>\n",
       "    <tr>\n",
       "      <td>OK</td>\n",
       "      <td>Oklahoma</td>\n",
       "      <td>3943079</td>\n",
       "    </tr>\n",
       "    <tr>\n",
       "      <td>WI</td>\n",
       "      <td>Wisconsin</td>\n",
       "      <td>5813568</td>\n",
       "    </tr>\n",
       "    <tr>\n",
       "      <td>PR</td>\n",
       "      <td>Puerto Rico</td>\n",
       "      <td>3195153</td>\n",
       "    </tr>\n",
       "    <tr>\n",
       "      <td>VA</td>\n",
       "      <td>Virginia</td>\n",
       "      <td>8517685</td>\n",
       "    </tr>\n",
       "    <tr>\n",
       "      <td>ND</td>\n",
       "      <td>North Dakota</td>\n",
       "      <td>760077</td>\n",
       "    </tr>\n",
       "    <tr>\n",
       "      <td>SC</td>\n",
       "      <td>South Carolina</td>\n",
       "      <td>5084127</td>\n",
       "    </tr>\n",
       "    <tr>\n",
       "      <td>OR</td>\n",
       "      <td>Oregon</td>\n",
       "      <td>4190713</td>\n",
       "    </tr>\n",
       "    <tr>\n",
       "      <td>WY</td>\n",
       "      <td>Wyoming</td>\n",
       "      <td>577737</td>\n",
       "    </tr>\n",
       "    <tr>\n",
       "      <td>CA</td>\n",
       "      <td>California</td>\n",
       "      <td>39557045</td>\n",
       "    </tr>\n",
       "    <tr>\n",
       "      <td>MS</td>\n",
       "      <td>Mississippi</td>\n",
       "      <td>2986530</td>\n",
       "    </tr>\n",
       "    <tr>\n",
       "      <td>CT</td>\n",
       "      <td>Connecticut</td>\n",
       "      <td>3572665</td>\n",
       "    </tr>\n",
       "    <tr>\n",
       "      <td>TX</td>\n",
       "      <td>Texas</td>\n",
       "      <td>28701845</td>\n",
       "    </tr>\n",
       "    <tr>\n",
       "      <td>MD</td>\n",
       "      <td>Maryland</td>\n",
       "      <td>6042718</td>\n",
       "    </tr>\n",
       "    <tr>\n",
       "      <td>FL</td>\n",
       "      <td>Florida</td>\n",
       "      <td>21299325</td>\n",
       "    </tr>\n",
       "    <tr>\n",
       "      <td>MA</td>\n",
       "      <td>Massachusetts</td>\n",
       "      <td>6902149</td>\n",
       "    </tr>\n",
       "    <tr>\n",
       "      <td>DC</td>\n",
       "      <td>District of Columbia</td>\n",
       "      <td>702455</td>\n",
       "    </tr>\n",
       "    <tr>\n",
       "      <td>UT</td>\n",
       "      <td>Utah</td>\n",
       "      <td>3161105</td>\n",
       "    </tr>\n",
       "    <tr>\n",
       "      <td>NY</td>\n",
       "      <td>New York</td>\n",
       "      <td>19542209</td>\n",
       "    </tr>\n",
       "    <tr>\n",
       "      <td>NJ</td>\n",
       "      <td>New Jersey</td>\n",
       "      <td>8908520</td>\n",
       "    </tr>\n",
       "    <tr>\n",
       "      <td>OH</td>\n",
       "      <td>Ohio</td>\n",
       "      <td>11689442</td>\n",
       "    </tr>\n",
       "    <tr>\n",
       "      <td>MO</td>\n",
       "      <td>Missouri</td>\n",
       "      <td>6126452</td>\n",
       "    </tr>\n",
       "    <tr>\n",
       "      <td>PA</td>\n",
       "      <td>Pennsylvania</td>\n",
       "      <td>12807060</td>\n",
       "    </tr>\n",
       "    <tr>\n",
       "      <td>MI</td>\n",
       "      <td>Michigan</td>\n",
       "      <td>9995915</td>\n",
       "    </tr>\n",
       "    <tr>\n",
       "      <td>NE</td>\n",
       "      <td>Nebraska</td>\n",
       "      <td>1929268</td>\n",
       "    </tr>\n",
       "    <tr>\n",
       "      <td>ID</td>\n",
       "      <td>Idaho</td>\n",
       "      <td>1754208</td>\n",
       "    </tr>\n",
       "    <tr>\n",
       "      <td>NM</td>\n",
       "      <td>New Mexico</td>\n",
       "      <td>2095428</td>\n",
       "    </tr>\n",
       "    <tr>\n",
       "      <td>HI</td>\n",
       "      <td>Hawaii</td>\n",
       "      <td>1420491</td>\n",
       "    </tr>\n",
       "    <tr>\n",
       "      <td>SD</td>\n",
       "      <td>South Dakota</td>\n",
       "      <td>882235</td>\n",
       "    </tr>\n",
       "    <tr>\n",
       "      <td>WA</td>\n",
       "      <td>Washington</td>\n",
       "      <td>7535591</td>\n",
       "    </tr>\n",
       "    <tr>\n",
       "      <td>RI</td>\n",
       "      <td>Rhode Island</td>\n",
       "      <td>1057315</td>\n",
       "    </tr>\n",
       "    <tr>\n",
       "      <td>AZ</td>\n",
       "      <td>Arizona</td>\n",
       "      <td>7171646</td>\n",
       "    </tr>\n",
       "    <tr>\n",
       "      <td>TN</td>\n",
       "      <td>Tennessee</td>\n",
       "      <td>6770010</td>\n",
       "    </tr>\n",
       "    <tr>\n",
       "      <td>KS</td>\n",
       "      <td>Kansas</td>\n",
       "      <td>2911510</td>\n",
       "    </tr>\n",
       "    <tr>\n",
       "      <td>USA</td>\n",
       "      <td>United States</td>\n",
       "      <td>327167439</td>\n",
       "    </tr>\n",
       "  </tbody>\n",
       "</table>\n",
       "</div>"
      ],
      "text/plain": [
       "                           State  Population\n",
       "state_code                                  \n",
       "CO                      Colorado     5695564\n",
       "IN                       Indiana     6691878\n",
       "KY                      Kentucky     4468402\n",
       "LA                     Louisiana     4659978\n",
       "IL                      Illinois    12741080\n",
       "IA                          Iowa     3156145\n",
       "NH                 New Hampshire     1356458\n",
       "AR                      Arkansas     3013825\n",
       "DE                      Delaware      967171\n",
       "MN                     Minnesota     5611179\n",
       "MT                       Montana     1062305\n",
       "ME                         Maine     1338404\n",
       "NC                North Carolina    10383620\n",
       "GA                       Georgia    10519475\n",
       "AK                        Alaska      737438\n",
       "AL                       Alabama     4887871\n",
       "VT                       Vermont      626299\n",
       "NV                        Nevada     3034392\n",
       "WV                 West Virginia     1805832\n",
       "OK                      Oklahoma     3943079\n",
       "WI                     Wisconsin     5813568\n",
       "PR                   Puerto Rico     3195153\n",
       "VA                      Virginia     8517685\n",
       "ND                  North Dakota      760077\n",
       "SC                South Carolina     5084127\n",
       "OR                        Oregon     4190713\n",
       "WY                       Wyoming      577737\n",
       "CA                    California    39557045\n",
       "MS                   Mississippi     2986530\n",
       "CT                   Connecticut     3572665\n",
       "TX                         Texas    28701845\n",
       "MD                      Maryland     6042718\n",
       "FL                       Florida    21299325\n",
       "MA                 Massachusetts     6902149\n",
       "DC          District of Columbia      702455\n",
       "UT                          Utah     3161105\n",
       "NY                      New York    19542209\n",
       "NJ                    New Jersey     8908520\n",
       "OH                          Ohio    11689442\n",
       "MO                      Missouri     6126452\n",
       "PA                  Pennsylvania    12807060\n",
       "MI                      Michigan     9995915\n",
       "NE                      Nebraska     1929268\n",
       "ID                         Idaho     1754208\n",
       "NM                    New Mexico     2095428\n",
       "HI                        Hawaii     1420491\n",
       "SD                  South Dakota      882235\n",
       "WA                    Washington     7535591\n",
       "RI                  Rhode Island     1057315\n",
       "AZ                       Arizona     7171646\n",
       "TN                     Tennessee     6770010\n",
       "KS                        Kansas     2911510\n",
       "USA                United States   327167439"
      ]
     },
     "execution_count": 16,
     "metadata": {},
     "output_type": "execute_result"
    }
   ],
   "source": [
    "c.set_index('state_code')"
   ]
  },
  {
   "cell_type": "markdown",
   "metadata": {},
   "source": [
    "drop the full name of the state and turn this into a dictionary where the state abbreviation key has a value of the population"
   ]
  },
  {
   "cell_type": "code",
   "execution_count": 17,
   "metadata": {},
   "outputs": [],
   "source": [
    "c=c.drop(columns='State')\n",
    "c=c.set_index('state_code')\n",
    "c=c.to_dict()"
   ]
  },
  {
   "cell_type": "markdown",
   "metadata": {},
   "source": [
    "because there are some missing values, manually add in each missing value with their population based on 2018 census"
   ]
  },
  {
   "cell_type": "code",
   "execution_count": 18,
   "metadata": {},
   "outputs": [],
   "source": [
    "c['Population']['AS']=55465 \n",
    "c['Population']['GU']=165768\n",
    "c['Population']['MP']=56882\n",
    "c['Population']['VI']=106977"
   ]
  },
  {
   "cell_type": "code",
   "execution_count": 19,
   "metadata": {},
   "outputs": [
    {
     "data": {
      "text/plain": [
       "{'Population': {'CO': 5695564,\n",
       "  'IN': 6691878,\n",
       "  'KY': 4468402,\n",
       "  'LA': 4659978,\n",
       "  'IL': 12741080,\n",
       "  'IA': 3156145,\n",
       "  'NH': 1356458,\n",
       "  'AR': 3013825,\n",
       "  'DE': 967171,\n",
       "  'MN': 5611179,\n",
       "  'MT': 1062305,\n",
       "  'ME': 1338404,\n",
       "  'NC': 10383620,\n",
       "  'GA': 10519475,\n",
       "  'AK': 737438,\n",
       "  'AL': 4887871,\n",
       "  'VT': 626299,\n",
       "  'NV': 3034392,\n",
       "  'WV': 1805832,\n",
       "  'OK': 3943079,\n",
       "  'WI': 5813568,\n",
       "  'PR': 3195153,\n",
       "  'VA': 8517685,\n",
       "  'ND': 760077,\n",
       "  'SC': 5084127,\n",
       "  'OR': 4190713,\n",
       "  'WY': 577737,\n",
       "  'CA': 39557045,\n",
       "  'MS': 2986530,\n",
       "  'CT': 3572665,\n",
       "  'TX': 28701845,\n",
       "  'MD': 6042718,\n",
       "  'FL': 21299325,\n",
       "  'MA': 6902149,\n",
       "  'DC': 702455,\n",
       "  'UT': 3161105,\n",
       "  'NY': 19542209,\n",
       "  'NJ': 8908520,\n",
       "  'OH': 11689442,\n",
       "  'MO': 6126452,\n",
       "  'PA': 12807060,\n",
       "  'MI': 9995915,\n",
       "  'NE': 1929268,\n",
       "  'ID': 1754208,\n",
       "  'NM': 2095428,\n",
       "  'HI': 1420491,\n",
       "  'SD': 882235,\n",
       "  'WA': 7535591,\n",
       "  'RI': 1057315,\n",
       "  'AZ': 7171646,\n",
       "  'TN': 6770010,\n",
       "  'KS': 2911510,\n",
       "  'USA': 327167439,\n",
       "  'AS': 55465,\n",
       "  'GU': 165768,\n",
       "  'MP': 56882,\n",
       "  'VI': 106977}}"
      ]
     },
     "execution_count": 19,
     "metadata": {},
     "output_type": "execute_result"
    }
   ],
   "source": [
    "c"
   ]
  },
  {
   "cell_type": "markdown",
   "metadata": {},
   "source": [
    "We now make a list of the state's population in order of how the states are listed in the covid dataframe."
   ]
  },
  {
   "cell_type": "code",
   "execution_count": 20,
   "metadata": {},
   "outputs": [],
   "source": [
    "\n",
    "\n",
    "statelist=[]\n",
    "for s in df['state']:\n",
    "    if s in c['Population'].keys():\n",
    "        statelist.append(c['Population'][s])\n",
    "    else:\n",
    "        statelist.append(0)"
   ]
  },
  {
   "cell_type": "code",
   "execution_count": 21,
   "metadata": {},
   "outputs": [],
   "source": [
    "statelist=np.array(statelist)"
   ]
  },
  {
   "cell_type": "markdown",
   "metadata": {},
   "source": [
    "put these populations in a new column of the covid data "
   ]
  },
  {
   "cell_type": "code",
   "execution_count": 22,
   "metadata": {},
   "outputs": [],
   "source": [
    "df['state_pop']=statelist"
   ]
  },
  {
   "cell_type": "markdown",
   "metadata": {},
   "source": [
    "We convert columns to be used to the type \"float\" in order to do calculations "
   ]
  },
  {
   "cell_type": "code",
   "execution_count": 23,
   "metadata": {},
   "outputs": [],
   "source": [
    "df['positive']=df['positive'].astype(float)\n",
    "df['death']=df['death'].astype(float)\n",
    "df['totalTestResults']=df['totalTestResults'].astype(float)"
   ]
  },
  {
   "cell_type": "markdown",
   "metadata": {},
   "source": [
    "We make new columns that shows covid data relative to the state population in thousands or hundred thousands.\n",
    "\n",
    "The new values are : death per hundred thousand of state population,  death increase today per hundred thousand,\n",
    "tests per thousand of state population, positive cases per thousand, increase in positive cases per thousand, and test increase per thousand.\n",
    "\n",
    "These new values make comparing covid data for different size states possible rather than only comparing  numbers.\n"
   ]
  },
  {
   "cell_type": "code",
   "execution_count": 24,
   "metadata": {},
   "outputs": [],
   "source": [
    "\n",
    "df['death per hundred thous']=df['death']/(df['state_pop'].astype(int)/100000)\n",
    "df['death increase per hun thousand']=df['deathIncrease']/(df['state_pop'].astype(int)/100000)\n",
    "df['positive per thousand']=df['positive']/(df['state_pop'].astype(int)/1000)\n",
    "df['positive increase per thousand']=df['positiveIncrease']/(df['state_pop'].astype(int)/1000)\n",
    "df['tests per thousand']=df['totalTestResults']/(df['state_pop'].astype(int)/1000)\n",
    "df['test increase per thousand']=df['totalTestResultsIncrease']/(df['state_pop'].astype(int)/1000)\n"
   ]
  },
  {
   "cell_type": "markdown",
   "metadata": {},
   "source": [
    "we also want to know the average positive increase per day based on the past week.\n",
    "\n",
    "first we must create a dataframe of data from the past week."
   ]
  },
  {
   "cell_type": "code",
   "execution_count": 25,
   "metadata": {},
   "outputs": [],
   "source": [
    "past_sev_days = df[df['date'] > dt.datetime.today()-dt.timedelta(days=7)]"
   ]
  },
  {
   "cell_type": "code",
   "execution_count": 26,
   "metadata": {},
   "outputs": [
    {
     "data": {
      "text/html": [
       "<div>\n",
       "<style scoped>\n",
       "    .dataframe tbody tr th:only-of-type {\n",
       "        vertical-align: middle;\n",
       "    }\n",
       "\n",
       "    .dataframe tbody tr th {\n",
       "        vertical-align: top;\n",
       "    }\n",
       "\n",
       "    .dataframe thead th {\n",
       "        text-align: right;\n",
       "    }\n",
       "</style>\n",
       "<table border=\"1\" class=\"dataframe\">\n",
       "  <thead>\n",
       "    <tr style=\"text-align: right;\">\n",
       "      <th></th>\n",
       "      <th>state_pop</th>\n",
       "      <th>death per hundred thous</th>\n",
       "      <th>death increase per hun thousand</th>\n",
       "      <th>positive per thousand</th>\n",
       "      <th>positive increase per thousand</th>\n",
       "      <th>tests per thousand</th>\n",
       "      <th>test increase per thousand</th>\n",
       "    </tr>\n",
       "  </thead>\n",
       "  <tbody>\n",
       "    <tr>\n",
       "      <td>0</td>\n",
       "      <td>737438</td>\n",
       "      <td>5.424185</td>\n",
       "      <td>0.000000</td>\n",
       "      <td>8.772263</td>\n",
       "      <td>0.176286</td>\n",
       "      <td>517.924219</td>\n",
       "      <td>5.425541</td>\n",
       "    </tr>\n",
       "    <tr>\n",
       "      <td>1</td>\n",
       "      <td>4887871</td>\n",
       "      <td>46.359652</td>\n",
       "      <td>0.675141</td>\n",
       "      <td>26.676850</td>\n",
       "      <td>0.226684</td>\n",
       "      <td>198.534904</td>\n",
       "      <td>0.908166</td>\n",
       "    </tr>\n",
       "    <tr>\n",
       "      <td>2</td>\n",
       "      <td>3013825</td>\n",
       "      <td>28.966513</td>\n",
       "      <td>0.398165</td>\n",
       "      <td>21.293539</td>\n",
       "      <td>0.362994</td>\n",
       "      <td>248.325965</td>\n",
       "      <td>3.315720</td>\n",
       "    </tr>\n",
       "    <tr>\n",
       "      <td>3</td>\n",
       "      <td>55465</td>\n",
       "      <td>0.000000</td>\n",
       "      <td>0.000000</td>\n",
       "      <td>0.000000</td>\n",
       "      <td>0.000000</td>\n",
       "      <td>27.296493</td>\n",
       "      <td>0.000000</td>\n",
       "    </tr>\n",
       "    <tr>\n",
       "      <td>4</td>\n",
       "      <td>7171646</td>\n",
       "      <td>72.103392</td>\n",
       "      <td>0.571696</td>\n",
       "      <td>28.540310</td>\n",
       "      <td>0.101511</td>\n",
       "      <td>172.474771</td>\n",
       "      <td>1.961753</td>\n",
       "    </tr>\n",
       "  </tbody>\n",
       "</table>\n",
       "</div>"
      ],
      "text/plain": [
       "   state_pop  death per hundred thous  death increase per hun thousand  \\\n",
       "0     737438                 5.424185                         0.000000   \n",
       "1    4887871                46.359652                         0.675141   \n",
       "2    3013825                28.966513                         0.398165   \n",
       "3      55465                 0.000000                         0.000000   \n",
       "4    7171646                72.103392                         0.571696   \n",
       "\n",
       "   positive per thousand  positive increase per thousand  tests per thousand  \\\n",
       "0               8.772263                        0.176286          517.924219   \n",
       "1              26.676850                        0.226684          198.534904   \n",
       "2              21.293539                        0.362994          248.325965   \n",
       "3               0.000000                        0.000000           27.296493   \n",
       "4              28.540310                        0.101511          172.474771   \n",
       "\n",
       "   test increase per thousand  \n",
       "0                    5.425541  \n",
       "1                    0.908166  \n",
       "2                    3.315720  \n",
       "3                    0.000000  \n",
       "4                    1.961753  "
      ]
     },
     "execution_count": 26,
     "metadata": {},
     "output_type": "execute_result"
    }
   ],
   "source": [
    "past_sev_days.iloc[:,-7:].head()"
   ]
  },
  {
   "cell_type": "markdown",
   "metadata": {},
   "source": [
    "Now we attain the mean positive increase in cases per state from this past week's data."
   ]
  },
  {
   "cell_type": "code",
   "execution_count": 27,
   "metadata": {},
   "outputs": [],
   "source": [
    "avg_sev_inc = past_sev_days.groupby(['state']).mean()['positiveIncrease']"
   ]
  },
  {
   "cell_type": "markdown",
   "metadata": {},
   "source": [
    "Convert this to a dictionary which we will later when we look up values in the order of states listed in our data frame, to make a list of mean positive increases in the order of their corresponding states."
   ]
  },
  {
   "cell_type": "code",
   "execution_count": 28,
   "metadata": {},
   "outputs": [],
   "source": [
    "avg_sev_inc=avg_sev_inc.to_dict()"
   ]
  },
  {
   "cell_type": "code",
   "execution_count": 29,
   "metadata": {},
   "outputs": [
    {
     "data": {
      "text/plain": [
       "{'AK': 78.0,\n",
       " 'AL': 1172.5714285714287,\n",
       " 'AR': 656.0,\n",
       " 'AS': 0.0,\n",
       " 'AZ': 574.7142857142857,\n",
       " 'CA': 4775.0,\n",
       " 'CO': 277.7142857142857,\n",
       " 'CT': 124.28571428571429,\n",
       " 'DC': 47.857142857142854,\n",
       " 'DE': 95.57142857142857,\n",
       " 'FL': 3486.4285714285716,\n",
       " 'GA': 1997.4285714285713,\n",
       " 'GU': 47.42857142857143,\n",
       " 'HI': 233.71428571428572,\n",
       " 'IA': 806.1428571428571,\n",
       " 'ID': 257.85714285714283,\n",
       " 'IL': 2302.0,\n",
       " 'IN': 938.7142857142857,\n",
       " 'KS': 596.0,\n",
       " 'KY': 702.8571428571429,\n",
       " 'LA': 775.0,\n",
       " 'MA': -832.2857142857143,\n",
       " 'MD': 595.2857142857143,\n",
       " 'ME': 28.0,\n",
       " 'MI': 737.0,\n",
       " 'MN': 818.0,\n",
       " 'MO': 1317.5714285714287,\n",
       " 'MP': 0.42857142857142855,\n",
       " 'MS': 663.5714285714286,\n",
       " 'MT': 136.57142857142858,\n",
       " 'NC': 1680.4285714285713,\n",
       " 'ND': 266.14285714285717,\n",
       " 'NE': 338.2857142857143,\n",
       " 'NH': 21.714285714285715,\n",
       " 'NJ': 350.14285714285717,\n",
       " 'NM': 127.42857142857143,\n",
       " 'NV': 408.57142857142856,\n",
       " 'NY': 743.4285714285714,\n",
       " 'OH': 1188.5714285714287,\n",
       " 'OK': 825.7142857142857,\n",
       " 'OR': 221.0,\n",
       " 'PA': 810.1428571428571,\n",
       " 'PR': 321.85714285714283,\n",
       " 'RI': 80.0,\n",
       " 'SC': 1053.4285714285713,\n",
       " 'SD': 297.0,\n",
       " 'TN': 1397.4285714285713,\n",
       " 'TX': 4151.571428571428,\n",
       " 'UT': 413.0,\n",
       " 'VA': 1026.7142857142858,\n",
       " 'VI': 10.714285714285714,\n",
       " 'VT': 7.571428571428571,\n",
       " 'WA': 450.42857142857144,\n",
       " 'WI': 799.4285714285714,\n",
       " 'WV': 173.28571428571428,\n",
       " 'WY': 32.285714285714285}"
      ]
     },
     "execution_count": 29,
     "metadata": {},
     "output_type": "execute_result"
    }
   ],
   "source": [
    "avg_sev_inc"
   ]
  },
  {
   "cell_type": "markdown",
   "metadata": {},
   "source": [
    "We construct a list of average daily positive increases from the past 7 days, in the order of the states listed in the past_sev_days  dataframe."
   ]
  },
  {
   "cell_type": "code",
   "execution_count": 30,
   "metadata": {},
   "outputs": [],
   "source": [
    "avg_sev_list=[]\n",
    "for s in past_sev_days['state']:\n",
    "    avg_sev_list.append(avg_sev_inc[s])"
   ]
  },
  {
   "cell_type": "markdown",
   "metadata": {},
   "source": [
    "add this ordered list of avg 7 day increase as a column in the dataframe of this past week's covid data.\n"
   ]
  },
  {
   "cell_type": "code",
   "execution_count": 31,
   "metadata": {},
   "outputs": [
    {
     "name": "stderr",
     "output_type": "stream",
     "text": [
      "/opt/anaconda3/lib/python3.7/site-packages/ipykernel_launcher.py:1: SettingWithCopyWarning: \n",
      "A value is trying to be set on a copy of a slice from a DataFrame.\n",
      "Try using .loc[row_indexer,col_indexer] = value instead\n",
      "\n",
      "See the caveats in the documentation: http://pandas.pydata.org/pandas-docs/stable/user_guide/indexing.html#returning-a-view-versus-a-copy\n",
      "  \"\"\"Entry point for launching an IPython kernel.\n",
      "/opt/anaconda3/lib/python3.7/site-packages/ipykernel_launcher.py:2: SettingWithCopyWarning: \n",
      "A value is trying to be set on a copy of a slice from a DataFrame.\n",
      "Try using .loc[row_indexer,col_indexer] = value instead\n",
      "\n",
      "See the caveats in the documentation: http://pandas.pydata.org/pandas-docs/stable/user_guide/indexing.html#returning-a-view-versus-a-copy\n",
      "  \n"
     ]
    }
   ],
   "source": [
    "past_sev_days['avg 7 day increase']=avg_sev_list\n",
    "past_sev_days['avg 7 day increase per thousand']=avg_sev_list/(past_sev_days['state_pop'].astype(int)/1000)"
   ]
  },
  {
   "cell_type": "code",
   "execution_count": 32,
   "metadata": {},
   "outputs": [
    {
     "data": {
      "text/html": [
       "<div>\n",
       "<style scoped>\n",
       "    .dataframe tbody tr th:only-of-type {\n",
       "        vertical-align: middle;\n",
       "    }\n",
       "\n",
       "    .dataframe tbody tr th {\n",
       "        vertical-align: top;\n",
       "    }\n",
       "\n",
       "    .dataframe thead th {\n",
       "        text-align: right;\n",
       "    }\n",
       "</style>\n",
       "<table border=\"1\" class=\"dataframe\">\n",
       "  <thead>\n",
       "    <tr style=\"text-align: right;\">\n",
       "      <th></th>\n",
       "      <th>state_pop</th>\n",
       "      <th>death per hundred thous</th>\n",
       "      <th>death increase per hun thousand</th>\n",
       "      <th>positive per thousand</th>\n",
       "      <th>positive increase per thousand</th>\n",
       "      <th>tests per thousand</th>\n",
       "      <th>test increase per thousand</th>\n",
       "      <th>avg 7 day increase</th>\n",
       "      <th>avg 7 day increase per thousand</th>\n",
       "    </tr>\n",
       "  </thead>\n",
       "  <tbody>\n",
       "    <tr>\n",
       "      <td>0</td>\n",
       "      <td>737438</td>\n",
       "      <td>5.424185</td>\n",
       "      <td>0.000000</td>\n",
       "      <td>8.772263</td>\n",
       "      <td>0.176286</td>\n",
       "      <td>517.924219</td>\n",
       "      <td>5.425541</td>\n",
       "      <td>78.000000</td>\n",
       "      <td>0.105772</td>\n",
       "    </tr>\n",
       "    <tr>\n",
       "      <td>1</td>\n",
       "      <td>4887871</td>\n",
       "      <td>46.359652</td>\n",
       "      <td>0.675141</td>\n",
       "      <td>26.676850</td>\n",
       "      <td>0.226684</td>\n",
       "      <td>198.534904</td>\n",
       "      <td>0.908166</td>\n",
       "      <td>1172.571429</td>\n",
       "      <td>0.239894</td>\n",
       "    </tr>\n",
       "    <tr>\n",
       "      <td>2</td>\n",
       "      <td>3013825</td>\n",
       "      <td>28.966513</td>\n",
       "      <td>0.398165</td>\n",
       "      <td>21.293539</td>\n",
       "      <td>0.362994</td>\n",
       "      <td>248.325965</td>\n",
       "      <td>3.315720</td>\n",
       "      <td>656.000000</td>\n",
       "      <td>0.217664</td>\n",
       "    </tr>\n",
       "    <tr>\n",
       "      <td>3</td>\n",
       "      <td>55465</td>\n",
       "      <td>0.000000</td>\n",
       "      <td>0.000000</td>\n",
       "      <td>0.000000</td>\n",
       "      <td>0.000000</td>\n",
       "      <td>27.296493</td>\n",
       "      <td>0.000000</td>\n",
       "      <td>0.000000</td>\n",
       "      <td>0.000000</td>\n",
       "    </tr>\n",
       "    <tr>\n",
       "      <td>4</td>\n",
       "      <td>7171646</td>\n",
       "      <td>72.103392</td>\n",
       "      <td>0.571696</td>\n",
       "      <td>28.540310</td>\n",
       "      <td>0.101511</td>\n",
       "      <td>172.474771</td>\n",
       "      <td>1.961753</td>\n",
       "      <td>574.714286</td>\n",
       "      <td>0.080137</td>\n",
       "    </tr>\n",
       "  </tbody>\n",
       "</table>\n",
       "</div>"
      ],
      "text/plain": [
       "   state_pop  death per hundred thous  death increase per hun thousand  \\\n",
       "0     737438                 5.424185                         0.000000   \n",
       "1    4887871                46.359652                         0.675141   \n",
       "2    3013825                28.966513                         0.398165   \n",
       "3      55465                 0.000000                         0.000000   \n",
       "4    7171646                72.103392                         0.571696   \n",
       "\n",
       "   positive per thousand  positive increase per thousand  tests per thousand  \\\n",
       "0               8.772263                        0.176286          517.924219   \n",
       "1              26.676850                        0.226684          198.534904   \n",
       "2              21.293539                        0.362994          248.325965   \n",
       "3               0.000000                        0.000000           27.296493   \n",
       "4              28.540310                        0.101511          172.474771   \n",
       "\n",
       "   test increase per thousand  avg 7 day increase  \\\n",
       "0                    5.425541           78.000000   \n",
       "1                    0.908166         1172.571429   \n",
       "2                    3.315720          656.000000   \n",
       "3                    0.000000            0.000000   \n",
       "4                    1.961753          574.714286   \n",
       "\n",
       "   avg 7 day increase per thousand  \n",
       "0                         0.105772  \n",
       "1                         0.239894  \n",
       "2                         0.217664  \n",
       "3                         0.000000  \n",
       "4                         0.080137  "
      ]
     },
     "execution_count": 32,
     "metadata": {},
     "output_type": "execute_result"
    }
   ],
   "source": [
    "past_sev_days.iloc[:,-9:].head()"
   ]
  },
  {
   "cell_type": "markdown",
   "metadata": {},
   "source": [
    "create a dataframe of today's data, which we will use in our choropleth."
   ]
  },
  {
   "cell_type": "code",
   "execution_count": 105,
   "metadata": {},
   "outputs": [],
   "source": [
    "\n",
    "today =past_sev_days[past_sev_days['date']==past_sev_days['date'].max()]"
   ]
  },
  {
   "cell_type": "code",
   "execution_count": 34,
   "metadata": {
    "scrolled": false
   },
   "outputs": [
    {
     "data": {
      "text/html": [
       "<div>\n",
       "<style scoped>\n",
       "    .dataframe tbody tr th:only-of-type {\n",
       "        vertical-align: middle;\n",
       "    }\n",
       "\n",
       "    .dataframe tbody tr th {\n",
       "        vertical-align: top;\n",
       "    }\n",
       "\n",
       "    .dataframe thead th {\n",
       "        text-align: right;\n",
       "    }\n",
       "</style>\n",
       "<table border=\"1\" class=\"dataframe\">\n",
       "  <thead>\n",
       "    <tr style=\"text-align: right;\">\n",
       "      <th></th>\n",
       "      <th>state_pop</th>\n",
       "      <th>death per hundred thous</th>\n",
       "      <th>death increase per hun thousand</th>\n",
       "      <th>positive per thousand</th>\n",
       "      <th>positive increase per thousand</th>\n",
       "      <th>tests per thousand</th>\n",
       "      <th>test increase per thousand</th>\n",
       "      <th>avg 7 day increase</th>\n",
       "      <th>avg 7 day increase per thousand</th>\n",
       "    </tr>\n",
       "  </thead>\n",
       "  <tbody>\n",
       "    <tr>\n",
       "      <td>0</td>\n",
       "      <td>737438</td>\n",
       "      <td>5.424185</td>\n",
       "      <td>0.000000</td>\n",
       "      <td>8.772263</td>\n",
       "      <td>0.176286</td>\n",
       "      <td>517.924219</td>\n",
       "      <td>5.425541</td>\n",
       "      <td>78.000000</td>\n",
       "      <td>0.105772</td>\n",
       "    </tr>\n",
       "    <tr>\n",
       "      <td>1</td>\n",
       "      <td>4887871</td>\n",
       "      <td>46.359652</td>\n",
       "      <td>0.675141</td>\n",
       "      <td>26.676850</td>\n",
       "      <td>0.226684</td>\n",
       "      <td>198.534904</td>\n",
       "      <td>0.908166</td>\n",
       "      <td>1172.571429</td>\n",
       "      <td>0.239894</td>\n",
       "    </tr>\n",
       "    <tr>\n",
       "      <td>2</td>\n",
       "      <td>3013825</td>\n",
       "      <td>28.966513</td>\n",
       "      <td>0.398165</td>\n",
       "      <td>21.293539</td>\n",
       "      <td>0.362994</td>\n",
       "      <td>248.325965</td>\n",
       "      <td>3.315720</td>\n",
       "      <td>656.000000</td>\n",
       "      <td>0.217664</td>\n",
       "    </tr>\n",
       "    <tr>\n",
       "      <td>3</td>\n",
       "      <td>55465</td>\n",
       "      <td>0.000000</td>\n",
       "      <td>0.000000</td>\n",
       "      <td>0.000000</td>\n",
       "      <td>0.000000</td>\n",
       "      <td>27.296493</td>\n",
       "      <td>0.000000</td>\n",
       "      <td>0.000000</td>\n",
       "      <td>0.000000</td>\n",
       "    </tr>\n",
       "    <tr>\n",
       "      <td>4</td>\n",
       "      <td>7171646</td>\n",
       "      <td>72.103392</td>\n",
       "      <td>0.571696</td>\n",
       "      <td>28.540310</td>\n",
       "      <td>0.101511</td>\n",
       "      <td>172.474771</td>\n",
       "      <td>1.961753</td>\n",
       "      <td>574.714286</td>\n",
       "      <td>0.080137</td>\n",
       "    </tr>\n",
       "  </tbody>\n",
       "</table>\n",
       "</div>"
      ],
      "text/plain": [
       "   state_pop  death per hundred thous  death increase per hun thousand  \\\n",
       "0     737438                 5.424185                         0.000000   \n",
       "1    4887871                46.359652                         0.675141   \n",
       "2    3013825                28.966513                         0.398165   \n",
       "3      55465                 0.000000                         0.000000   \n",
       "4    7171646                72.103392                         0.571696   \n",
       "\n",
       "   positive per thousand  positive increase per thousand  tests per thousand  \\\n",
       "0               8.772263                        0.176286          517.924219   \n",
       "1              26.676850                        0.226684          198.534904   \n",
       "2              21.293539                        0.362994          248.325965   \n",
       "3               0.000000                        0.000000           27.296493   \n",
       "4              28.540310                        0.101511          172.474771   \n",
       "\n",
       "   test increase per thousand  avg 7 day increase  \\\n",
       "0                    5.425541           78.000000   \n",
       "1                    0.908166         1172.571429   \n",
       "2                    3.315720          656.000000   \n",
       "3                    0.000000            0.000000   \n",
       "4                    1.961753          574.714286   \n",
       "\n",
       "   avg 7 day increase per thousand  \n",
       "0                         0.105772  \n",
       "1                         0.239894  \n",
       "2                         0.217664  \n",
       "3                         0.000000  \n",
       "4                         0.080137  "
      ]
     },
     "execution_count": 34,
     "metadata": {},
     "output_type": "execute_result"
    }
   ],
   "source": [
    "today.iloc[:,-9:].head()"
   ]
  },
  {
   "cell_type": "markdown",
   "metadata": {},
   "source": [
    "# Insights\n"
   ]
  },
  {
   "cell_type": "markdown",
   "metadata": {},
   "source": [
    "Get descriptive statistics of all the new columns we created.\n",
    "We show the states with the maximum and minumum value of each of our new column\n",
    "We use the inverted version of our previous state dictionary to look up state names from state abbreviations."
   ]
  },
  {
   "cell_type": "code",
   "execution_count": 35,
   "metadata": {},
   "outputs": [
    {
     "name": "stdout",
     "output_type": "stream",
     "text": [
      "death per hundred thous\n",
      "max: New Jersey NJ\n",
      "min: American Samoa AS\n",
      "count     56.000000\n",
      "mean      42.645169\n",
      "std       37.715871\n",
      "min        0.000000\n",
      "25%       16.073398\n",
      "50%       31.550137\n",
      "75%       57.398614\n",
      "max      179.356391\n",
      "Name: death per hundred thous, dtype: float64\n",
      "\n",
      "\n",
      "tests per thousand\n",
      "max: Rhode Island RI\n",
      "min: American Samoa AS\n",
      "count     56.000000\n",
      "mean     235.797820\n",
      "std       96.569634\n",
      "min       27.296493\n",
      "25%      176.938306\n",
      "50%      214.581346\n",
      "75%      257.213180\n",
      "max      527.299811\n",
      "Name: tests per thousand, dtype: float64\n",
      "\n",
      "\n",
      "positive per thousand\n",
      "max: Louisiana LA\n",
      "min: American Samoa AS\n",
      "count    56.000000\n",
      "mean     15.596751\n",
      "std       7.556465\n",
      "min       0.000000\n",
      "25%      10.595847\n",
      "50%      15.632678\n",
      "75%      21.054469\n",
      "max      32.697365\n",
      "Name: positive per thousand, dtype: float64\n",
      "\n",
      "\n",
      "positive increase per thousand\n",
      "max: North Dakota ND\n",
      "min: American Samoa AS\n",
      "count    56.000000\n",
      "mean      0.157452\n",
      "std       0.116297\n",
      "min       0.000000\n",
      "25%       0.068070\n",
      "50%       0.143930\n",
      "75%       0.204379\n",
      "max       0.452586\n",
      "Name: positive increase per thousand, dtype: float64\n",
      "\n",
      "\n",
      "test increase per thousand\n",
      "max: Illinois IL\n",
      "min: American Samoa AS\n",
      "count    56.000000\n",
      "mean      2.684687\n",
      "std       2.069241\n",
      "min       0.000000\n",
      "25%       1.438408\n",
      "50%       2.261020\n",
      "75%       3.320753\n",
      "max      11.733621\n",
      "Name: test increase per thousand, dtype: float64\n",
      "\n",
      "\n",
      "death increase per hun thousand\n",
      "max: Virgin Islands VI\n",
      "min: Alaska AK\n",
      "count    56.000000\n",
      "mean      0.259083\n",
      "std       0.230744\n",
      "min       0.000000\n",
      "25%       0.078453\n",
      "50%       0.204594\n",
      "75%       0.336597\n",
      "max       0.934780\n",
      "Name: death increase per hun thousand, dtype: float64\n",
      "\n",
      "\n",
      "avg 7 day increase\n",
      "max: California CA\n",
      "min: Massachusetts MA\n",
      "count      56.000000\n",
      "mean      725.102041\n",
      "std       989.658951\n",
      "min      -832.285714\n",
      "25%       126.642857\n",
      "50%       431.714286\n",
      "75%       819.928571\n",
      "max      4775.000000\n",
      "Name: avg 7 day increase, dtype: float64\n",
      "\n",
      "\n",
      "avg 7 day increase per thousand\n",
      "max: North Dakota ND\n",
      "min: Massachusetts MA\n",
      "count    56.000000\n",
      "mean      0.125881\n",
      "std       0.086801\n",
      "min      -0.120584\n",
      "25%       0.062646\n",
      "50%       0.124637\n",
      "75%       0.176677\n",
      "max       0.350152\n",
      "Name: avg 7 day increase per thousand, dtype: float64\n",
      "\n",
      "\n"
     ]
    }
   ],
   "source": [
    "\n",
    "inverted_state_dict = dict(map(reversed,us_state_abbrev.items()))\n",
    "\n",
    "\n",
    "filtered=['death per hundred thous', 'tests per thousand',\n",
    "       'positive per thousand', 'positive increase per thousand',\n",
    "       'test increase per thousand', 'death increase per hun thousand',\n",
    "       'avg 7 day increase', 'avg 7 day increase per thousand']\n",
    "for f in filtered:\n",
    "    max_state=today[today[f]==today[f].max()].iloc[0,1]\n",
    "    min_state=today[today[f]==today[f].min()].iloc[0,1]\n",
    "    print(f)\n",
    "    print('max: '+ inverted_state_dict[max_state] + ' '+max_state)\n",
    "    print('min: '+ inverted_state_dict[min_state]+ ' '+ min_state)\n",
    "    print(today[f].describe())\n",
    "    print('\\n')"
   ]
  },
  {
   "cell_type": "markdown",
   "metadata": {},
   "source": [
    "Visualize the descriptive statistics.\n",
    "We make a boxplot for every new column to better visualize the descriptive stats data.\n",
    "We graph them side by side then individually to get a closer look."
   ]
  },
  {
   "cell_type": "code",
   "execution_count": 36,
   "metadata": {},
   "outputs": [
    {
     "data": {
      "text/plain": [
       "<matplotlib.axes._subplots.AxesSubplot at 0x1a1e329d90>"
      ]
     },
     "execution_count": 36,
     "metadata": {},
     "output_type": "execute_result"
    },
    {
     "data": {
      "image/png": "[encoded data removed]",
      "text/plain": [
       "<Figure size 1080x360 with 1 Axes>"
      ]
     },
     "metadata": {
      "needs_background": "light"
     },
     "output_type": "display_data"
    }
   ],
   "source": [
    "var=[ 'death per hundred thous', 'tests per thousand',\n",
    "       'positive per thousand', 'positive increase per thousand',\n",
    "       'test increase per thousand', 'death increase per hun thousand',\n",
    "       'avg 7 day increase', 'avg 7 day increase per thousand']\n",
    "mpl.rcParams['figure.figsize'] = (15,5)\n",
    "\n",
    "s=today[var].stack()\n",
    "s=s.reset_index()\n",
    "s.columns=['state_group','variable','value']\n",
    "plt.xticks(rotation=45)\n",
    "sns.boxplot(x='variable',y='value',data=s)"
   ]
  },
  {
   "cell_type": "code",
   "execution_count": 37,
   "metadata": {},
   "outputs": [
    {
     "data": {
      "image/png": "[encoded data removed]",
      "text/plain": [
       "<Figure size 360x360 with 1 Axes>"
      ]
     },
     "metadata": {
      "needs_background": "light"
     },
     "output_type": "display_data"
    },
    {
     "data": {
      "image/png": "[encoded data removed]",
      "text/plain": [
       "<Figure size 360x360 with 1 Axes>"
      ]
     },
     "metadata": {
      "needs_background": "light"
     },
     "output_type": "display_data"
    },
    {
     "data": {
      "image/png": "[encoded data removed]",
      "text/plain": [
       "<Figure size 360x360 with 1 Axes>"
      ]
     },
     "metadata": {
      "needs_background": "light"
     },
     "output_type": "display_data"
    },
    {
     "data": {
      "image/png": "[encoded data removed]",
      "text/plain": [
       "<Figure size 360x360 with 1 Axes>"
      ]
     },
     "metadata": {
      "needs_background": "light"
     },
     "output_type": "display_data"
    },
    {
     "data": {
      "image/png": "[encoded data removed]",
      "text/plain": [
       "<Figure size 360x360 with 1 Axes>"
      ]
     },
     "metadata": {
      "needs_background": "light"
     },
     "output_type": "display_data"
    },
    {
     "data": {
      "image/png": "[encoded data removed]",
      "text/plain": [
       "<Figure size 360x360 with 1 Axes>"
      ]
     },
     "metadata": {
      "needs_background": "light"
     },
     "output_type": "display_data"
    },
    {
     "data": {
      "image/png": "[encoded data removed]",
      "text/plain": [
       "<Figure size 360x360 with 1 Axes>"
      ]
     },
     "metadata": {
      "needs_background": "light"
     },
     "output_type": "display_data"
    },
    {
     "data": {
      "image/png": "[encoded data removed]",
      "text/plain": [
       "<Figure size 360x360 with 1 Axes>"
      ]
     },
     "metadata": {
      "needs_background": "light"
     },
     "output_type": "display_data"
    }
   ],
   "source": [
    "counter=1\n",
    "mpl.rcParams['figure.figsize'] = (5,5)\n",
    "fig = plt.figure()\n",
    "fig.subplots_adjust(hspace=0.4, wspace=0.4)\n",
    "for v in var:\n",
    "    sns.boxplot(y=v,data=today)\n",
    "    plt.title(v)\n",
    "    plt.show()"
   ]
  },
  {
   "cell_type": "markdown",
   "metadata": {},
   "source": [
    "We make a bargraph for each of our new columns to show every state's value to view how states compare to each other."
   ]
  },
  {
   "cell_type": "code",
   "execution_count": 38,
   "metadata": {},
   "outputs": [
    {
     "data": {
      "image/png": "[encoded data removed]",
      "text/plain": [
       "<Figure size 1800x216 with 1 Axes>"
      ]
     },
     "metadata": {
      "needs_background": "light"
     },
     "output_type": "display_data"
    },
    {
     "data": {
      "image/png": "[encoded data removed]",
      "text/plain": [
       "<Figure size 1800x216 with 1 Axes>"
      ]
     },
     "metadata": {
      "needs_background": "light"
     },
     "output_type": "display_data"
    },
    {
     "data": {
      "image/png": "[encoded data removed]",
      "text/plain": [
       "<Figure size 1800x216 with 1 Axes>"
      ]
     },
     "metadata": {
      "needs_background": "light"
     },
     "output_type": "display_data"
    },
    {
     "data": {
      "image/png": "[encoded data removed]",
      "text/plain": [
       "<Figure size 1800x216 with 1 Axes>"
      ]
     },
     "metadata": {
      "needs_background": "light"
     },
     "output_type": "display_data"
    },
    {
     "data": {
      "image/png": "[encoded data removed]",
      "text/plain": [
       "<Figure size 1800x216 with 1 Axes>"
      ]
     },
     "metadata": {
      "needs_background": "light"
     },
     "output_type": "display_data"
    },
    {
     "data": {
      "image/png": "[encoded data removed]",
      "text/plain": [
       "<Figure size 1800x216 with 1 Axes>"
      ]
     },
     "metadata": {
      "needs_background": "light"
     },
     "output_type": "display_data"
    },
    {
     "data": {
      "image/png": "[encoded data removed]",
      "text/plain": [
       "<Figure size 1800x216 with 1 Axes>"
      ]
     },
     "metadata": {
      "needs_background": "light"
     },
     "output_type": "display_data"
    },
    {
     "data": {
      "image/png": "[encoded data removed]",
      "text/plain": [
       "<Figure size 1800x216 with 1 Axes>"
      ]
     },
     "metadata": {
      "needs_background": "light"
     },
     "output_type": "display_data"
    }
   ],
   "source": [
    "filt=['state','state_pop', 'death per hundred thous', 'tests per thousand',\n",
    "       'positive per thousand', 'positive increase per thousand',\n",
    "       'test increase per thousand', 'death increase per hun thousand',\n",
    "       'avg 7 day increase', 'avg 7 day increase per thousand']  \n",
    "\n",
    "for v in var:\n",
    "    fig, ax = plt.subplots(figsize=(25,3))\n",
    "    ax=sns.barplot(x='state',y=v,data=today[filt].sort_values(v))\n",
    "    plt.xticks(rotation=0)\n",
    "    plt.title(v)"
   ]
  }
 ],
 "metadata": {
  "kernelspec": {
   "display_name": "Python 3",
   "language": "python",
   "name": "python3"
  },
  "language_info": {
   "codemirror_mode": {
    "name": "ipython",
    "version": 3
   },
   "file_extension": ".py",
   "mimetype": "text/x-python",
   "name": "python",
   "nbconvert_exporter": "python",
   "pygments_lexer": "ipython3",
   "version": "3.7.4"
  }
 },
 "nbformat": 4,
 "nbformat_minor": 2
}
